{
 "cells": [
  {
   "cell_type": "code",
   "execution_count": 1,
   "metadata": {},
   "outputs": [],
   "source": [
    "import pandas as pd\n",
    "import numpy as np"
   ]
  },
  {
   "cell_type": "code",
   "execution_count": 2,
   "metadata": {},
   "outputs": [],
   "source": [
    "%matplotlib inline"
   ]
  },
  {
   "cell_type": "markdown",
   "metadata": {},
   "source": [
    "### Checkpoint"
   ]
  },
  {
   "cell_type": "code",
   "execution_count": 3,
   "metadata": {},
   "outputs": [
    {
     "ename": "NameError",
     "evalue": "name 'new_review_df' is not defined",
     "output_type": "error",
     "traceback": [
      "\u001b[1;31m---------------------------------------------------------------------------\u001b[0m",
      "\u001b[1;31mNameError\u001b[0m                                 Traceback (most recent call last)",
      "\u001b[1;32m<ipython-input-3-d01dd18ea060>\u001b[0m in \u001b[0;36m<module>\u001b[1;34m\u001b[0m\n\u001b[1;32m----> 1\u001b[1;33m \u001b[0mnew_review_df\u001b[0m\u001b[1;33m.\u001b[0m\u001b[0mto_csv\u001b[0m\u001b[1;33m(\u001b[0m\u001b[1;34m'dahtah/uncleaned_reviews.csv'\u001b[0m\u001b[1;33m,\u001b[0m \u001b[0mindex\u001b[0m\u001b[1;33m=\u001b[0m\u001b[1;32mFalse\u001b[0m\u001b[1;33m)\u001b[0m\u001b[1;33m\u001b[0m\u001b[1;33m\u001b[0m\u001b[0m\n\u001b[0m",
      "\u001b[1;31mNameError\u001b[0m: name 'new_review_df' is not defined"
     ]
    }
   ],
   "source": [
    "new_review_df.to_csv('dahtah/uncleaned_reviews.csv', index=False)"
   ]
  },
  {
   "cell_type": "markdown",
   "metadata": {},
   "source": [
    "### Load"
   ]
  },
  {
   "cell_type": "code",
   "execution_count": 4,
   "metadata": {},
   "outputs": [],
   "source": [
    "reviews_fp = 'dahtah/uncleaned_reviews.csv'\n",
    "new_review_df = pd.read_csv(reviews_fp)"
   ]
  },
  {
   "cell_type": "markdown",
   "metadata": {},
   "source": [
    "# Part 1. Data Cleaning on reviews dataset"
   ]
  },
  {
   "cell_type": "code",
   "execution_count": 8,
   "metadata": {},
   "outputs": [],
   "source": [
    "fp = 'dahtah/australian_user_reviews.json'"
   ]
  },
  {
   "cell_type": "code",
   "execution_count": 9,
   "metadata": {},
   "outputs": [],
   "source": [
    "fh = open(fp, encoding='utf-8')"
   ]
  },
  {
   "cell_type": "code",
   "execution_count": 10,
   "metadata": {},
   "outputs": [],
   "source": [
    "rows = []\n",
    "for i in fh:\n",
    "    rows += [eval(i)]"
   ]
  },
  {
   "cell_type": "code",
   "execution_count": 11,
   "metadata": {},
   "outputs": [],
   "source": [
    "reviews_df = pd.DataFrame(rows)"
   ]
  },
  {
   "cell_type": "code",
   "execution_count": 12,
   "metadata": {},
   "outputs": [
    {
     "data": {
      "text/html": [
       "<div>\n",
       "<style scoped>\n",
       "    .dataframe tbody tr th:only-of-type {\n",
       "        vertical-align: middle;\n",
       "    }\n",
       "\n",
       "    .dataframe tbody tr th {\n",
       "        vertical-align: top;\n",
       "    }\n",
       "\n",
       "    .dataframe thead th {\n",
       "        text-align: right;\n",
       "    }\n",
       "</style>\n",
       "<table border=\"1\" class=\"dataframe\">\n",
       "  <thead>\n",
       "    <tr style=\"text-align: right;\">\n",
       "      <th></th>\n",
       "      <th>reviews</th>\n",
       "      <th>user_id</th>\n",
       "      <th>user_url</th>\n",
       "    </tr>\n",
       "  </thead>\n",
       "  <tbody>\n",
       "    <tr>\n",
       "      <th>0</th>\n",
       "      <td>[{'funny': '', 'posted': 'Posted November 5, 2...</td>\n",
       "      <td>76561197970982479</td>\n",
       "      <td>http://steamcommunity.com/profiles/76561197970...</td>\n",
       "    </tr>\n",
       "    <tr>\n",
       "      <th>1</th>\n",
       "      <td>[{'funny': '', 'posted': 'Posted June 24, 2014...</td>\n",
       "      <td>js41637</td>\n",
       "      <td>http://steamcommunity.com/id/js41637</td>\n",
       "    </tr>\n",
       "    <tr>\n",
       "      <th>2</th>\n",
       "      <td>[{'funny': '', 'posted': 'Posted February 3.',...</td>\n",
       "      <td>evcentric</td>\n",
       "      <td>http://steamcommunity.com/id/evcentric</td>\n",
       "    </tr>\n",
       "    <tr>\n",
       "      <th>3</th>\n",
       "      <td>[{'funny': '', 'posted': 'Posted October 14, 2...</td>\n",
       "      <td>doctr</td>\n",
       "      <td>http://steamcommunity.com/id/doctr</td>\n",
       "    </tr>\n",
       "    <tr>\n",
       "      <th>4</th>\n",
       "      <td>[{'funny': '3 people found this review funny',...</td>\n",
       "      <td>maplemage</td>\n",
       "      <td>http://steamcommunity.com/id/maplemage</td>\n",
       "    </tr>\n",
       "  </tbody>\n",
       "</table>\n",
       "</div>"
      ],
      "text/plain": [
       "                                             reviews            user_id  \\\n",
       "0  [{'funny': '', 'posted': 'Posted November 5, 2...  76561197970982479   \n",
       "1  [{'funny': '', 'posted': 'Posted June 24, 2014...            js41637   \n",
       "2  [{'funny': '', 'posted': 'Posted February 3.',...          evcentric   \n",
       "3  [{'funny': '', 'posted': 'Posted October 14, 2...              doctr   \n",
       "4  [{'funny': '3 people found this review funny',...          maplemage   \n",
       "\n",
       "                                            user_url  \n",
       "0  http://steamcommunity.com/profiles/76561197970...  \n",
       "1               http://steamcommunity.com/id/js41637  \n",
       "2             http://steamcommunity.com/id/evcentric  \n",
       "3                 http://steamcommunity.com/id/doctr  \n",
       "4             http://steamcommunity.com/id/maplemage  "
      ]
     },
     "execution_count": 12,
     "metadata": {},
     "output_type": "execute_result"
    }
   ],
   "source": [
    "reviews_df.head()"
   ]
  },
  {
   "cell_type": "code",
   "execution_count": 13,
   "metadata": {},
   "outputs": [],
   "source": [
    "fh.close()"
   ]
  },
  {
   "cell_type": "code",
   "execution_count": 14,
   "metadata": {},
   "outputs": [],
   "source": [
    "def add_user_id(row):\n",
    "    user_id = row['user_id']\n",
    "    review_list = row['reviews']\n",
    "    for dct in review_list:\n",
    "        dct['user_id'] = user_id\n",
    "    return review_list"
   ]
  },
  {
   "cell_type": "code",
   "execution_count": 15,
   "metadata": {},
   "outputs": [],
   "source": [
    "new_review_df = pd.DataFrame(reviews_df.apply(add_user_id, axis = 1).sum())"
   ]
  },
  {
   "cell_type": "code",
   "execution_count": 16,
   "metadata": {},
   "outputs": [
    {
     "data": {
      "text/html": [
       "<div>\n",
       "<style scoped>\n",
       "    .dataframe tbody tr th:only-of-type {\n",
       "        vertical-align: middle;\n",
       "    }\n",
       "\n",
       "    .dataframe tbody tr th {\n",
       "        vertical-align: top;\n",
       "    }\n",
       "\n",
       "    .dataframe thead th {\n",
       "        text-align: right;\n",
       "    }\n",
       "</style>\n",
       "<table border=\"1\" class=\"dataframe\">\n",
       "  <thead>\n",
       "    <tr style=\"text-align: right;\">\n",
       "      <th></th>\n",
       "      <th>funny</th>\n",
       "      <th>helpful</th>\n",
       "      <th>item_id</th>\n",
       "      <th>last_edited</th>\n",
       "      <th>posted</th>\n",
       "      <th>recommend</th>\n",
       "      <th>review</th>\n",
       "      <th>user_id</th>\n",
       "    </tr>\n",
       "  </thead>\n",
       "  <tbody>\n",
       "    <tr>\n",
       "      <th>0</th>\n",
       "      <td></td>\n",
       "      <td>No ratings yet</td>\n",
       "      <td>1250</td>\n",
       "      <td></td>\n",
       "      <td>Posted November 5, 2011.</td>\n",
       "      <td>True</td>\n",
       "      <td>Simple yet with great replayability. In my opi...</td>\n",
       "      <td>76561197970982479</td>\n",
       "    </tr>\n",
       "    <tr>\n",
       "      <th>1</th>\n",
       "      <td></td>\n",
       "      <td>No ratings yet</td>\n",
       "      <td>22200</td>\n",
       "      <td></td>\n",
       "      <td>Posted July 15, 2011.</td>\n",
       "      <td>True</td>\n",
       "      <td>It's unique and worth a playthrough.</td>\n",
       "      <td>76561197970982479</td>\n",
       "    </tr>\n",
       "    <tr>\n",
       "      <th>2</th>\n",
       "      <td></td>\n",
       "      <td>No ratings yet</td>\n",
       "      <td>43110</td>\n",
       "      <td></td>\n",
       "      <td>Posted April 21, 2011.</td>\n",
       "      <td>True</td>\n",
       "      <td>Great atmosphere. The gunplay can be a bit chu...</td>\n",
       "      <td>76561197970982479</td>\n",
       "    </tr>\n",
       "    <tr>\n",
       "      <th>3</th>\n",
       "      <td></td>\n",
       "      <td>15 of 20 people (75%) found this review helpful</td>\n",
       "      <td>251610</td>\n",
       "      <td></td>\n",
       "      <td>Posted June 24, 2014.</td>\n",
       "      <td>True</td>\n",
       "      <td>I know what you think when you see this title ...</td>\n",
       "      <td>js41637</td>\n",
       "    </tr>\n",
       "    <tr>\n",
       "      <th>4</th>\n",
       "      <td></td>\n",
       "      <td>0 of 1 people (0%) found this review helpful</td>\n",
       "      <td>227300</td>\n",
       "      <td></td>\n",
       "      <td>Posted September 8, 2013.</td>\n",
       "      <td>True</td>\n",
       "      <td>For a simple (it's actually not all that simpl...</td>\n",
       "      <td>js41637</td>\n",
       "    </tr>\n",
       "  </tbody>\n",
       "</table>\n",
       "</div>"
      ],
      "text/plain": [
       "  funny                                          helpful item_id last_edited  \\\n",
       "0                                         No ratings yet    1250               \n",
       "1                                         No ratings yet   22200               \n",
       "2                                         No ratings yet   43110               \n",
       "3        15 of 20 people (75%) found this review helpful  251610               \n",
       "4           0 of 1 people (0%) found this review helpful  227300               \n",
       "\n",
       "                      posted  recommend  \\\n",
       "0   Posted November 5, 2011.       True   \n",
       "1      Posted July 15, 2011.       True   \n",
       "2     Posted April 21, 2011.       True   \n",
       "3      Posted June 24, 2014.       True   \n",
       "4  Posted September 8, 2013.       True   \n",
       "\n",
       "                                              review            user_id  \n",
       "0  Simple yet with great replayability. In my opi...  76561197970982479  \n",
       "1               It's unique and worth a playthrough.  76561197970982479  \n",
       "2  Great atmosphere. The gunplay can be a bit chu...  76561197970982479  \n",
       "3  I know what you think when you see this title ...            js41637  \n",
       "4  For a simple (it's actually not all that simpl...            js41637  "
      ]
     },
     "execution_count": 16,
     "metadata": {},
     "output_type": "execute_result"
    }
   ],
   "source": [
    "new_review_df.head()"
   ]
  },
  {
   "cell_type": "code",
   "execution_count": 17,
   "metadata": {},
   "outputs": [],
   "source": [
    "dates = list(new_review_df['posted'].apply(lambda x: x[7:-1]))"
   ]
  },
  {
   "cell_type": "code",
   "execution_count": 18,
   "metadata": {},
   "outputs": [],
   "source": [
    "years = [int(i.split(',')[1].strip()) for i in dates if ',' in i]"
   ]
  },
  {
   "cell_type": "code",
   "execution_count": 19,
   "metadata": {},
   "outputs": [
    {
     "data": {
      "text/plain": [
       "2015"
      ]
     },
     "execution_count": 19,
     "metadata": {},
     "output_type": "execute_result"
    }
   ],
   "source": [
    "np.max(years)"
   ]
  },
  {
   "cell_type": "markdown",
   "metadata": {},
   "source": [
    "Steam doesn't show year of the comment posted when it is posted during the current year. Therefore the data is likely collected during 2016, impute those dates with a year"
   ]
  },
  {
   "cell_type": "code",
   "execution_count": 20,
   "metadata": {},
   "outputs": [],
   "source": [
    "def add_year(date_string):\n",
    "    if ',' not in date_string:\n",
    "        return date_string[:-1] + ', 2016' + date_string[-1]\n",
    "    else:\n",
    "        return date_string"
   ]
  },
  {
   "cell_type": "code",
   "execution_count": 21,
   "metadata": {},
   "outputs": [],
   "source": [
    "new_review_df['posted'] = new_review_df['posted'].apply(add_year)"
   ]
  },
  {
   "cell_type": "code",
   "execution_count": 22,
   "metadata": {},
   "outputs": [],
   "source": [
    "def remove_extra(date_string):\n",
    "    return date_string.replace('Posted ', '')[:-1]"
   ]
  },
  {
   "cell_type": "code",
   "execution_count": 23,
   "metadata": {},
   "outputs": [],
   "source": [
    "new_review_df['posted'] = new_review_df['posted'].apply(remove_extra)"
   ]
  },
  {
   "cell_type": "code",
   "execution_count": 24,
   "metadata": {},
   "outputs": [],
   "source": [
    "new_review_df['posted'] = pd.to_datetime(new_review_df['posted'])"
   ]
  },
  {
   "cell_type": "markdown",
   "metadata": {},
   "source": [
    "--------------"
   ]
  },
  {
   "cell_type": "code",
   "execution_count": 6,
   "metadata": {},
   "outputs": [
    {
     "data": {
      "text/html": [
       "<div>\n",
       "<style scoped>\n",
       "    .dataframe tbody tr th:only-of-type {\n",
       "        vertical-align: middle;\n",
       "    }\n",
       "\n",
       "    .dataframe tbody tr th {\n",
       "        vertical-align: top;\n",
       "    }\n",
       "\n",
       "    .dataframe thead th {\n",
       "        text-align: right;\n",
       "    }\n",
       "</style>\n",
       "<table border=\"1\" class=\"dataframe\">\n",
       "  <thead>\n",
       "    <tr style=\"text-align: right;\">\n",
       "      <th></th>\n",
       "      <th>funny</th>\n",
       "      <th>helpful</th>\n",
       "      <th>item_id</th>\n",
       "      <th>last_edited</th>\n",
       "      <th>posted</th>\n",
       "      <th>recommend</th>\n",
       "      <th>review</th>\n",
       "      <th>user_id</th>\n",
       "    </tr>\n",
       "  </thead>\n",
       "  <tbody>\n",
       "    <tr>\n",
       "      <th>0</th>\n",
       "      <td>NaN</td>\n",
       "      <td>No ratings yet</td>\n",
       "      <td>1250</td>\n",
       "      <td>NaN</td>\n",
       "      <td>2011-11-05</td>\n",
       "      <td>True</td>\n",
       "      <td>Simple yet with great replayability. In my opi...</td>\n",
       "      <td>76561197970982479</td>\n",
       "    </tr>\n",
       "    <tr>\n",
       "      <th>1</th>\n",
       "      <td>NaN</td>\n",
       "      <td>No ratings yet</td>\n",
       "      <td>22200</td>\n",
       "      <td>NaN</td>\n",
       "      <td>2011-07-15</td>\n",
       "      <td>True</td>\n",
       "      <td>It's unique and worth a playthrough.</td>\n",
       "      <td>76561197970982479</td>\n",
       "    </tr>\n",
       "    <tr>\n",
       "      <th>2</th>\n",
       "      <td>NaN</td>\n",
       "      <td>No ratings yet</td>\n",
       "      <td>43110</td>\n",
       "      <td>NaN</td>\n",
       "      <td>2011-04-21</td>\n",
       "      <td>True</td>\n",
       "      <td>Great atmosphere. The gunplay can be a bit chu...</td>\n",
       "      <td>76561197970982479</td>\n",
       "    </tr>\n",
       "    <tr>\n",
       "      <th>3</th>\n",
       "      <td>NaN</td>\n",
       "      <td>15 of 20 people (75%) found this review helpful</td>\n",
       "      <td>251610</td>\n",
       "      <td>NaN</td>\n",
       "      <td>2014-06-24</td>\n",
       "      <td>True</td>\n",
       "      <td>I know what you think when you see this title ...</td>\n",
       "      <td>js41637</td>\n",
       "    </tr>\n",
       "    <tr>\n",
       "      <th>4</th>\n",
       "      <td>NaN</td>\n",
       "      <td>0 of 1 people (0%) found this review helpful</td>\n",
       "      <td>227300</td>\n",
       "      <td>NaN</td>\n",
       "      <td>2013-09-08</td>\n",
       "      <td>True</td>\n",
       "      <td>For a simple (it's actually not all that simpl...</td>\n",
       "      <td>js41637</td>\n",
       "    </tr>\n",
       "  </tbody>\n",
       "</table>\n",
       "</div>"
      ],
      "text/plain": [
       "  funny                                          helpful  item_id last_edited  \\\n",
       "0   NaN                                   No ratings yet     1250         NaN   \n",
       "1   NaN                                   No ratings yet    22200         NaN   \n",
       "2   NaN                                   No ratings yet    43110         NaN   \n",
       "3   NaN  15 of 20 people (75%) found this review helpful   251610         NaN   \n",
       "4   NaN     0 of 1 people (0%) found this review helpful   227300         NaN   \n",
       "\n",
       "       posted  recommend                                             review  \\\n",
       "0  2011-11-05       True  Simple yet with great replayability. In my opi...   \n",
       "1  2011-07-15       True               It's unique and worth a playthrough.   \n",
       "2  2011-04-21       True  Great atmosphere. The gunplay can be a bit chu...   \n",
       "3  2014-06-24       True  I know what you think when you see this title ...   \n",
       "4  2013-09-08       True  For a simple (it's actually not all that simpl...   \n",
       "\n",
       "             user_id  \n",
       "0  76561197970982479  \n",
       "1  76561197970982479  \n",
       "2  76561197970982479  \n",
       "3            js41637  \n",
       "4            js41637  "
      ]
     },
     "execution_count": 6,
     "metadata": {},
     "output_type": "execute_result"
    }
   ],
   "source": [
    "new_review_df.head()"
   ]
  },
  {
   "cell_type": "markdown",
   "metadata": {},
   "source": [
    "## Finding: Overall recommendation intention\n",
    "In general user would tend to give a good review when they bother to type up a review. <br>\n",
    "And yes, Pie chart sometimes IS viable"
   ]
  },
  {
   "cell_type": "code",
   "execution_count": 7,
   "metadata": {},
   "outputs": [
    {
     "data": {
      "text/plain": [
       "<matplotlib.axes._subplots.AxesSubplot at 0x1e193dbd0b8>"
      ]
     },
     "execution_count": 7,
     "metadata": {},
     "output_type": "execute_result"
    },
    {
     "data": {
      "image/png": "[encoded data removed]",
      "text/plain": [
       "<Figure size 432x288 with 1 Axes>"
      ]
     },
     "metadata": {},
     "output_type": "display_data"
    }
   ],
   "source": [
    "new_review_df['recommend'].value_counts().plot(kind = 'pie')"
   ]
  },
  {
   "cell_type": "markdown",
   "metadata": {},
   "source": [
    "## Finding: How often are reviews rated by other users?\n",
    "It turns out in the dataset there are 50% of the time people actually bothered to rate whether or not a review is helpful<br>\n",
    "(Spoiler) This observation will lead to the decision of predictive task"
   ]
  },
  {
   "cell_type": "code",
   "execution_count": 19,
   "metadata": {},
   "outputs": [
    {
     "data": {
      "text/plain": [
       "<matplotlib.axes._subplots.AxesSubplot at 0x1e195cb9940>"
      ]
     },
     "execution_count": 19,
     "metadata": {},
     "output_type": "execute_result"
    },
    {
     "data": {
      "image/png": "[encoded data removed]",
      "text/plain": [
       "<Figure size 432x288 with 1 Axes>"
      ]
     },
     "metadata": {
      "needs_background": "light"
     },
     "output_type": "display_data"
    }
   ],
   "source": [
    "(new_review_df['helpful'] == 'No ratings yet').value_counts().plot(kind = 'bar', color = ['blue', 'orange'], title = str(((new_review_df['helpful'] == 'No ratings yet').mean()//0.001)/10) + '% of users have their comment rated by someone as helpful')"
   ]
  },
  {
   "cell_type": "markdown",
   "metadata": {},
   "source": [
    "## Finding: Data Missingness\n",
    "Funny and last_edited columns have missingness of NMAR, elements in column funny have the value of nan when they are zero, the ones in last_edited are nan if they were never edited after first posting. <br>"
   ]
  },
  {
   "cell_type": "markdown",
   "metadata": {},
   "source": [
    "Some reviews are missing as well, steam does not allow user to post recommendation without writing any reviews, some of those missing reviews are even recorded to be rated by some others. So I guess it has to be an artififact of data collection."
   ]
  },
  {
   "cell_type": "code",
   "execution_count": 22,
   "metadata": {},
   "outputs": [
    {
     "data": {
      "text/html": [
       "<div>\n",
       "<style scoped>\n",
       "    .dataframe tbody tr th:only-of-type {\n",
       "        vertical-align: middle;\n",
       "    }\n",
       "\n",
       "    .dataframe tbody tr th {\n",
       "        vertical-align: top;\n",
       "    }\n",
       "\n",
       "    .dataframe thead th {\n",
       "        text-align: right;\n",
       "    }\n",
       "</style>\n",
       "<table border=\"1\" class=\"dataframe\">\n",
       "  <thead>\n",
       "    <tr style=\"text-align: right;\">\n",
       "      <th></th>\n",
       "      <th>funny</th>\n",
       "      <th>helpful</th>\n",
       "      <th>item_id</th>\n",
       "      <th>last_edited</th>\n",
       "      <th>posted</th>\n",
       "      <th>recommend</th>\n",
       "      <th>review</th>\n",
       "      <th>user_id</th>\n",
       "    </tr>\n",
       "  </thead>\n",
       "  <tbody>\n",
       "    <tr>\n",
       "      <th>3095</th>\n",
       "      <td>NaN</td>\n",
       "      <td>No ratings yet</td>\n",
       "      <td>550</td>\n",
       "      <td>NaN</td>\n",
       "      <td>2016-03-11</td>\n",
       "      <td>True</td>\n",
       "      <td>NaN</td>\n",
       "      <td>2ZESTY4ME</td>\n",
       "    </tr>\n",
       "    <tr>\n",
       "      <th>4616</th>\n",
       "      <td>NaN</td>\n",
       "      <td>No ratings yet</td>\n",
       "      <td>550</td>\n",
       "      <td>NaN</td>\n",
       "      <td>2014-09-19</td>\n",
       "      <td>True</td>\n",
       "      <td>NaN</td>\n",
       "      <td>76561198093337643</td>\n",
       "    </tr>\n",
       "    <tr>\n",
       "      <th>15975</th>\n",
       "      <td>NaN</td>\n",
       "      <td>2 of 2 people (100%) found this review helpful</td>\n",
       "      <td>218620</td>\n",
       "      <td>NaN</td>\n",
       "      <td>2014-12-30</td>\n",
       "      <td>True</td>\n",
       "      <td>NaN</td>\n",
       "      <td>terencemok</td>\n",
       "    </tr>\n",
       "    <tr>\n",
       "      <th>20478</th>\n",
       "      <td>NaN</td>\n",
       "      <td>0 of 1 people (0%) found this review helpful</td>\n",
       "      <td>378041</td>\n",
       "      <td>NaN</td>\n",
       "      <td>2016-03-10</td>\n",
       "      <td>True</td>\n",
       "      <td>NaN</td>\n",
       "      <td>76561197971285616</td>\n",
       "    </tr>\n",
       "    <tr>\n",
       "      <th>22049</th>\n",
       "      <td>NaN</td>\n",
       "      <td>0 of 2 people (0%) found this review helpful</td>\n",
       "      <td>211820</td>\n",
       "      <td>NaN</td>\n",
       "      <td>2014-05-23</td>\n",
       "      <td>True</td>\n",
       "      <td>NaN</td>\n",
       "      <td>shez13</td>\n",
       "    </tr>\n",
       "    <tr>\n",
       "      <th>22050</th>\n",
       "      <td>NaN</td>\n",
       "      <td>No ratings yet</td>\n",
       "      <td>227320</td>\n",
       "      <td>NaN</td>\n",
       "      <td>2014-05-23</td>\n",
       "      <td>True</td>\n",
       "      <td>NaN</td>\n",
       "      <td>shez13</td>\n",
       "    </tr>\n",
       "    <tr>\n",
       "      <th>22910</th>\n",
       "      <td>NaN</td>\n",
       "      <td>1 of 1 people (100%) found this review helpful</td>\n",
       "      <td>620</td>\n",
       "      <td>NaN</td>\n",
       "      <td>2014-09-02</td>\n",
       "      <td>True</td>\n",
       "      <td>NaN</td>\n",
       "      <td>damo4lyf</td>\n",
       "    </tr>\n",
       "    <tr>\n",
       "      <th>23542</th>\n",
       "      <td>NaN</td>\n",
       "      <td>No ratings yet</td>\n",
       "      <td>239660</td>\n",
       "      <td>NaN</td>\n",
       "      <td>2013-09-09</td>\n",
       "      <td>True</td>\n",
       "      <td>NaN</td>\n",
       "      <td>FastAsACheetah</td>\n",
       "    </tr>\n",
       "    <tr>\n",
       "      <th>25295</th>\n",
       "      <td>NaN</td>\n",
       "      <td>No ratings yet</td>\n",
       "      <td>730</td>\n",
       "      <td>NaN</td>\n",
       "      <td>2015-04-16</td>\n",
       "      <td>True</td>\n",
       "      <td>NaN</td>\n",
       "      <td>76561198098017317</td>\n",
       "    </tr>\n",
       "    <tr>\n",
       "      <th>25300</th>\n",
       "      <td>NaN</td>\n",
       "      <td>0 of 1 people (0%) found this review helpful</td>\n",
       "      <td>570</td>\n",
       "      <td>NaN</td>\n",
       "      <td>2013-03-16</td>\n",
       "      <td>True</td>\n",
       "      <td>NaN</td>\n",
       "      <td>76561198072940782</td>\n",
       "    </tr>\n",
       "    <tr>\n",
       "      <th>25721</th>\n",
       "      <td>NaN</td>\n",
       "      <td>No ratings yet</td>\n",
       "      <td>17330</td>\n",
       "      <td>NaN</td>\n",
       "      <td>2013-10-29</td>\n",
       "      <td>True</td>\n",
       "      <td>NaN</td>\n",
       "      <td>76561198081756988</td>\n",
       "    </tr>\n",
       "    <tr>\n",
       "      <th>25722</th>\n",
       "      <td>NaN</td>\n",
       "      <td>No ratings yet</td>\n",
       "      <td>107410</td>\n",
       "      <td>NaN</td>\n",
       "      <td>2013-07-13</td>\n",
       "      <td>True</td>\n",
       "      <td>NaN</td>\n",
       "      <td>76561198081756988</td>\n",
       "    </tr>\n",
       "    <tr>\n",
       "      <th>28304</th>\n",
       "      <td>NaN</td>\n",
       "      <td>No ratings yet</td>\n",
       "      <td>440</td>\n",
       "      <td>NaN</td>\n",
       "      <td>2013-11-07</td>\n",
       "      <td>True</td>\n",
       "      <td>NaN</td>\n",
       "      <td>KamuKambing</td>\n",
       "    </tr>\n",
       "    <tr>\n",
       "      <th>31633</th>\n",
       "      <td>NaN</td>\n",
       "      <td>No ratings yet</td>\n",
       "      <td>440</td>\n",
       "      <td>NaN</td>\n",
       "      <td>2015-08-14</td>\n",
       "      <td>True</td>\n",
       "      <td>NaN</td>\n",
       "      <td>infidllrone</td>\n",
       "    </tr>\n",
       "    <tr>\n",
       "      <th>32451</th>\n",
       "      <td>NaN</td>\n",
       "      <td>No ratings yet</td>\n",
       "      <td>221640</td>\n",
       "      <td>NaN</td>\n",
       "      <td>2014-06-23</td>\n",
       "      <td>True</td>\n",
       "      <td>NaN</td>\n",
       "      <td>obviousjosh</td>\n",
       "    </tr>\n",
       "    <tr>\n",
       "      <th>32589</th>\n",
       "      <td>NaN</td>\n",
       "      <td>1 of 1 people (100%) found this review helpful</td>\n",
       "      <td>570</td>\n",
       "      <td>NaN</td>\n",
       "      <td>2014-12-20</td>\n",
       "      <td>True</td>\n",
       "      <td>NaN</td>\n",
       "      <td>76561198072577997</td>\n",
       "    </tr>\n",
       "    <tr>\n",
       "      <th>35990</th>\n",
       "      <td>NaN</td>\n",
       "      <td>0 of 1 people (0%) found this review helpful</td>\n",
       "      <td>24010</td>\n",
       "      <td>NaN</td>\n",
       "      <td>2015-11-16</td>\n",
       "      <td>True</td>\n",
       "      <td>NaN</td>\n",
       "      <td>76561198125368693</td>\n",
       "    </tr>\n",
       "    <tr>\n",
       "      <th>37128</th>\n",
       "      <td>NaN</td>\n",
       "      <td>No ratings yet</td>\n",
       "      <td>8930</td>\n",
       "      <td>NaN</td>\n",
       "      <td>2015-09-10</td>\n",
       "      <td>True</td>\n",
       "      <td>NaN</td>\n",
       "      <td>AlienMan180</td>\n",
       "    </tr>\n",
       "    <tr>\n",
       "      <th>40959</th>\n",
       "      <td>NaN</td>\n",
       "      <td>No ratings yet</td>\n",
       "      <td>570</td>\n",
       "      <td>NaN</td>\n",
       "      <td>2013-08-23</td>\n",
       "      <td>True</td>\n",
       "      <td>NaN</td>\n",
       "      <td>stionk</td>\n",
       "    </tr>\n",
       "    <tr>\n",
       "      <th>43092</th>\n",
       "      <td>NaN</td>\n",
       "      <td>No ratings yet</td>\n",
       "      <td>224260</td>\n",
       "      <td>NaN</td>\n",
       "      <td>2015-12-20</td>\n",
       "      <td>False</td>\n",
       "      <td>NaN</td>\n",
       "      <td>STEAM0082987612</td>\n",
       "    </tr>\n",
       "    <tr>\n",
       "      <th>43769</th>\n",
       "      <td>NaN</td>\n",
       "      <td>1 of 1 people (100%) found this review helpful</td>\n",
       "      <td>730</td>\n",
       "      <td>NaN</td>\n",
       "      <td>2016-01-13</td>\n",
       "      <td>True</td>\n",
       "      <td>NaN</td>\n",
       "      <td>bajuthor</td>\n",
       "    </tr>\n",
       "    <tr>\n",
       "      <th>45215</th>\n",
       "      <td>NaN</td>\n",
       "      <td>6 of 10 people (60%) found this review helpful</td>\n",
       "      <td>289650</td>\n",
       "      <td>NaN</td>\n",
       "      <td>2014-11-13</td>\n",
       "      <td>False</td>\n",
       "      <td>NaN</td>\n",
       "      <td>CBMC</td>\n",
       "    </tr>\n",
       "    <tr>\n",
       "      <th>45385</th>\n",
       "      <td>NaN</td>\n",
       "      <td>No ratings yet</td>\n",
       "      <td>238960</td>\n",
       "      <td>NaN</td>\n",
       "      <td>2015-09-09</td>\n",
       "      <td>True</td>\n",
       "      <td>NaN</td>\n",
       "      <td>viihdavanzo</td>\n",
       "    </tr>\n",
       "    <tr>\n",
       "      <th>45386</th>\n",
       "      <td>NaN</td>\n",
       "      <td>No ratings yet</td>\n",
       "      <td>730</td>\n",
       "      <td>NaN</td>\n",
       "      <td>2015-09-09</td>\n",
       "      <td>True</td>\n",
       "      <td>NaN</td>\n",
       "      <td>viihdavanzo</td>\n",
       "    </tr>\n",
       "    <tr>\n",
       "      <th>46684</th>\n",
       "      <td>NaN</td>\n",
       "      <td>2 of 2 people (100%) found this review helpful</td>\n",
       "      <td>730</td>\n",
       "      <td>NaN</td>\n",
       "      <td>2014-10-30</td>\n",
       "      <td>True</td>\n",
       "      <td>NaN</td>\n",
       "      <td>76561198034829571</td>\n",
       "    </tr>\n",
       "    <tr>\n",
       "      <th>48176</th>\n",
       "      <td>1 person found this review funny</td>\n",
       "      <td>5 of 11 people (45%) found this review helpful</td>\n",
       "      <td>313010</td>\n",
       "      <td>NaN</td>\n",
       "      <td>2015-04-11</td>\n",
       "      <td>False</td>\n",
       "      <td>NaN</td>\n",
       "      <td>wazzawazza80profile</td>\n",
       "    </tr>\n",
       "    <tr>\n",
       "      <th>52643</th>\n",
       "      <td>NaN</td>\n",
       "      <td>No ratings yet</td>\n",
       "      <td>440</td>\n",
       "      <td>NaN</td>\n",
       "      <td>2014-08-09</td>\n",
       "      <td>True</td>\n",
       "      <td>NaN</td>\n",
       "      <td>76561198072110631</td>\n",
       "    </tr>\n",
       "    <tr>\n",
       "      <th>53781</th>\n",
       "      <td>NaN</td>\n",
       "      <td>No ratings yet</td>\n",
       "      <td>230410</td>\n",
       "      <td>NaN</td>\n",
       "      <td>2014-08-28</td>\n",
       "      <td>True</td>\n",
       "      <td>NaN</td>\n",
       "      <td>76561198077684524</td>\n",
       "    </tr>\n",
       "    <tr>\n",
       "      <th>56462</th>\n",
       "      <td>NaN</td>\n",
       "      <td>No ratings yet</td>\n",
       "      <td>250760</td>\n",
       "      <td>NaN</td>\n",
       "      <td>2014-07-31</td>\n",
       "      <td>True</td>\n",
       "      <td>NaN</td>\n",
       "      <td>BNCFan</td>\n",
       "    </tr>\n",
       "    <tr>\n",
       "      <th>56476</th>\n",
       "      <td>NaN</td>\n",
       "      <td>No ratings yet</td>\n",
       "      <td>224540</td>\n",
       "      <td>NaN</td>\n",
       "      <td>2014-07-25</td>\n",
       "      <td>True</td>\n",
       "      <td>NaN</td>\n",
       "      <td>PLZACCEPTTHEURL</td>\n",
       "    </tr>\n",
       "  </tbody>\n",
       "</table>\n",
       "</div>"
      ],
      "text/plain": [
       "                                  funny  \\\n",
       "3095                                NaN   \n",
       "4616                                NaN   \n",
       "15975                               NaN   \n",
       "20478                               NaN   \n",
       "22049                               NaN   \n",
       "22050                               NaN   \n",
       "22910                               NaN   \n",
       "23542                               NaN   \n",
       "25295                               NaN   \n",
       "25300                               NaN   \n",
       "25721                               NaN   \n",
       "25722                               NaN   \n",
       "28304                               NaN   \n",
       "31633                               NaN   \n",
       "32451                               NaN   \n",
       "32589                               NaN   \n",
       "35990                               NaN   \n",
       "37128                               NaN   \n",
       "40959                               NaN   \n",
       "43092                               NaN   \n",
       "43769                               NaN   \n",
       "45215                               NaN   \n",
       "45385                               NaN   \n",
       "45386                               NaN   \n",
       "46684                               NaN   \n",
       "48176  1 person found this review funny   \n",
       "52643                               NaN   \n",
       "53781                               NaN   \n",
       "56462                               NaN   \n",
       "56476                               NaN   \n",
       "\n",
       "                                              helpful  item_id last_edited  \\\n",
       "3095                                   No ratings yet      550         NaN   \n",
       "4616                                   No ratings yet      550         NaN   \n",
       "15975  2 of 2 people (100%) found this review helpful   218620         NaN   \n",
       "20478    0 of 1 people (0%) found this review helpful   378041         NaN   \n",
       "22049    0 of 2 people (0%) found this review helpful   211820         NaN   \n",
       "22050                                  No ratings yet   227320         NaN   \n",
       "22910  1 of 1 people (100%) found this review helpful      620         NaN   \n",
       "23542                                  No ratings yet   239660         NaN   \n",
       "25295                                  No ratings yet      730         NaN   \n",
       "25300    0 of 1 people (0%) found this review helpful      570         NaN   \n",
       "25721                                  No ratings yet    17330         NaN   \n",
       "25722                                  No ratings yet   107410         NaN   \n",
       "28304                                  No ratings yet      440         NaN   \n",
       "31633                                  No ratings yet      440         NaN   \n",
       "32451                                  No ratings yet   221640         NaN   \n",
       "32589  1 of 1 people (100%) found this review helpful      570         NaN   \n",
       "35990    0 of 1 people (0%) found this review helpful    24010         NaN   \n",
       "37128                                  No ratings yet     8930         NaN   \n",
       "40959                                  No ratings yet      570         NaN   \n",
       "43092                                  No ratings yet   224260         NaN   \n",
       "43769  1 of 1 people (100%) found this review helpful      730         NaN   \n",
       "45215  6 of 10 people (60%) found this review helpful   289650         NaN   \n",
       "45385                                  No ratings yet   238960         NaN   \n",
       "45386                                  No ratings yet      730         NaN   \n",
       "46684  2 of 2 people (100%) found this review helpful      730         NaN   \n",
       "48176  5 of 11 people (45%) found this review helpful   313010         NaN   \n",
       "52643                                  No ratings yet      440         NaN   \n",
       "53781                                  No ratings yet   230410         NaN   \n",
       "56462                                  No ratings yet   250760         NaN   \n",
       "56476                                  No ratings yet   224540         NaN   \n",
       "\n",
       "           posted  recommend review              user_id  \n",
       "3095   2016-03-11       True    NaN            2ZESTY4ME  \n",
       "4616   2014-09-19       True    NaN    76561198093337643  \n",
       "15975  2014-12-30       True    NaN           terencemok  \n",
       "20478  2016-03-10       True    NaN    76561197971285616  \n",
       "22049  2014-05-23       True    NaN               shez13  \n",
       "22050  2014-05-23       True    NaN               shez13  \n",
       "22910  2014-09-02       True    NaN             damo4lyf  \n",
       "23542  2013-09-09       True    NaN       FastAsACheetah  \n",
       "25295  2015-04-16       True    NaN    76561198098017317  \n",
       "25300  2013-03-16       True    NaN    76561198072940782  \n",
       "25721  2013-10-29       True    NaN    76561198081756988  \n",
       "25722  2013-07-13       True    NaN    76561198081756988  \n",
       "28304  2013-11-07       True    NaN          KamuKambing  \n",
       "31633  2015-08-14       True    NaN          infidllrone  \n",
       "32451  2014-06-23       True    NaN          obviousjosh  \n",
       "32589  2014-12-20       True    NaN    76561198072577997  \n",
       "35990  2015-11-16       True    NaN    76561198125368693  \n",
       "37128  2015-09-10       True    NaN          AlienMan180  \n",
       "40959  2013-08-23       True    NaN               stionk  \n",
       "43092  2015-12-20      False    NaN      STEAM0082987612  \n",
       "43769  2016-01-13       True    NaN             bajuthor  \n",
       "45215  2014-11-13      False    NaN                 CBMC  \n",
       "45385  2015-09-09       True    NaN          viihdavanzo  \n",
       "45386  2015-09-09       True    NaN          viihdavanzo  \n",
       "46684  2014-10-30       True    NaN    76561198034829571  \n",
       "48176  2015-04-11      False    NaN  wazzawazza80profile  \n",
       "52643  2014-08-09       True    NaN    76561198072110631  \n",
       "53781  2014-08-28       True    NaN    76561198077684524  \n",
       "56462  2014-07-31       True    NaN               BNCFan  \n",
       "56476  2014-07-25       True    NaN      PLZACCEPTTHEURL  "
      ]
     },
     "execution_count": 22,
     "metadata": {},
     "output_type": "execute_result"
    }
   ],
   "source": [
    "new_review_df.loc[new_review_df['review'].isnull()]"
   ]
  },
  {
   "cell_type": "markdown",
   "metadata": {},
   "source": [
    "------------------"
   ]
  },
  {
   "cell_type": "markdown",
   "metadata": {},
   "source": [
    "# Data Cleaning on User-item dataset"
   ]
  },
  {
   "cell_type": "markdown",
   "metadata": {},
   "source": [
    "### Save"
   ]
  },
  {
   "cell_type": "code",
   "execution_count": 98,
   "metadata": {},
   "outputs": [],
   "source": [
    "user_item_df.to_csv('dahtah/user_item.csv', index=False)\n",
    "user_item_detail.to_csv('dahtah/user_item_detail.csv', index = False)"
   ]
  },
  {
   "cell_type": "markdown",
   "metadata": {},
   "source": [
    "### Load "
   ]
  },
  {
   "cell_type": "code",
   "execution_count": 24,
   "metadata": {},
   "outputs": [],
   "source": [
    "user_item_df = pd.read_csv('dahtah/user_item.csv')\n",
    "user_item_detail = pd.read_csv('dahtah/user_item_detail.csv')"
   ]
  },
  {
   "cell_type": "code",
   "execution_count": 47,
   "metadata": {},
   "outputs": [],
   "source": [
    "ui_fp = 'dahtah/australian_users_items.json'"
   ]
  },
  {
   "cell_type": "code",
   "execution_count": 48,
   "metadata": {},
   "outputs": [],
   "source": [
    "ui_fh = open(ui_fp, encoding='utf-8')\n",
    "ui_rows = []\n",
    "for i in ui_fh:\n",
    "    ui_rows += [eval(i)]"
   ]
  },
  {
   "cell_type": "code",
   "execution_count": 49,
   "metadata": {},
   "outputs": [],
   "source": [
    "user_item_df = pd.DataFrame(ui_rows)"
   ]
  },
  {
   "cell_type": "code",
   "execution_count": 50,
   "metadata": {},
   "outputs": [
    {
     "data": {
      "text/html": [
       "<div>\n",
       "<style scoped>\n",
       "    .dataframe tbody tr th:only-of-type {\n",
       "        vertical-align: middle;\n",
       "    }\n",
       "\n",
       "    .dataframe tbody tr th {\n",
       "        vertical-align: top;\n",
       "    }\n",
       "\n",
       "    .dataframe thead th {\n",
       "        text-align: right;\n",
       "    }\n",
       "</style>\n",
       "<table border=\"1\" class=\"dataframe\">\n",
       "  <thead>\n",
       "    <tr style=\"text-align: right;\">\n",
       "      <th></th>\n",
       "      <th>items</th>\n",
       "      <th>items_count</th>\n",
       "      <th>steam_id</th>\n",
       "      <th>user_id</th>\n",
       "      <th>user_url</th>\n",
       "    </tr>\n",
       "  </thead>\n",
       "  <tbody>\n",
       "    <tr>\n",
       "      <th>0</th>\n",
       "      <td>[{'item_id': '10', 'item_name': 'Counter-Strik...</td>\n",
       "      <td>277</td>\n",
       "      <td>76561197970982479</td>\n",
       "      <td>76561197970982479</td>\n",
       "      <td>http://steamcommunity.com/profiles/76561197970...</td>\n",
       "    </tr>\n",
       "    <tr>\n",
       "      <th>1</th>\n",
       "      <td>[{'item_id': '10', 'item_name': 'Counter-Strik...</td>\n",
       "      <td>888</td>\n",
       "      <td>76561198035864385</td>\n",
       "      <td>js41637</td>\n",
       "      <td>http://steamcommunity.com/id/js41637</td>\n",
       "    </tr>\n",
       "    <tr>\n",
       "      <th>2</th>\n",
       "      <td>[{'item_id': '1200', 'item_name': 'Red Orchest...</td>\n",
       "      <td>137</td>\n",
       "      <td>76561198007712555</td>\n",
       "      <td>evcentric</td>\n",
       "      <td>http://steamcommunity.com/id/evcentric</td>\n",
       "    </tr>\n",
       "    <tr>\n",
       "      <th>3</th>\n",
       "      <td>[{'item_id': '10', 'item_name': 'Counter-Strik...</td>\n",
       "      <td>328</td>\n",
       "      <td>76561197963445855</td>\n",
       "      <td>Riot-Punch</td>\n",
       "      <td>http://steamcommunity.com/id/Riot-Punch</td>\n",
       "    </tr>\n",
       "    <tr>\n",
       "      <th>4</th>\n",
       "      <td>[{'item_id': '300', 'item_name': 'Day of Defea...</td>\n",
       "      <td>541</td>\n",
       "      <td>76561198002099482</td>\n",
       "      <td>doctr</td>\n",
       "      <td>http://steamcommunity.com/id/doctr</td>\n",
       "    </tr>\n",
       "  </tbody>\n",
       "</table>\n",
       "</div>"
      ],
      "text/plain": [
       "                                               items  items_count  \\\n",
       "0  [{'item_id': '10', 'item_name': 'Counter-Strik...          277   \n",
       "1  [{'item_id': '10', 'item_name': 'Counter-Strik...          888   \n",
       "2  [{'item_id': '1200', 'item_name': 'Red Orchest...          137   \n",
       "3  [{'item_id': '10', 'item_name': 'Counter-Strik...          328   \n",
       "4  [{'item_id': '300', 'item_name': 'Day of Defea...          541   \n",
       "\n",
       "            steam_id            user_id  \\\n",
       "0  76561197970982479  76561197970982479   \n",
       "1  76561198035864385            js41637   \n",
       "2  76561198007712555          evcentric   \n",
       "3  76561197963445855         Riot-Punch   \n",
       "4  76561198002099482              doctr   \n",
       "\n",
       "                                            user_url  \n",
       "0  http://steamcommunity.com/profiles/76561197970...  \n",
       "1               http://steamcommunity.com/id/js41637  \n",
       "2             http://steamcommunity.com/id/evcentric  \n",
       "3            http://steamcommunity.com/id/Riot-Punch  \n",
       "4                 http://steamcommunity.com/id/doctr  "
      ]
     },
     "execution_count": 50,
     "metadata": {},
     "output_type": "execute_result"
    }
   ],
   "source": [
    "user_item_df.head()"
   ]
  },
  {
   "cell_type": "code",
   "execution_count": 51,
   "metadata": {},
   "outputs": [],
   "source": [
    "ui_fh.close()"
   ]
  },
  {
   "cell_type": "markdown",
   "metadata": {},
   "source": [
    "### Finding: Duplicate users?\n",
    "**Problem:** Some users appear more than once in the dataset<br>\n",
    "**Interpretation:** Upon verification it is clear that duplicated entries are exactly identical. Therefore must be an artifact of the data collection mechanism"
   ]
  },
  {
   "cell_type": "code",
   "execution_count": 52,
   "metadata": {},
   "outputs": [
    {
     "data": {
      "text/plain": [
       "(88310, 5)"
      ]
     },
     "execution_count": 52,
     "metadata": {},
     "output_type": "execute_result"
    }
   ],
   "source": [
    "user_item_df.shape"
   ]
  },
  {
   "cell_type": "code",
   "execution_count": 53,
   "metadata": {},
   "outputs": [
    {
     "data": {
      "text/plain": [
       "(87625,)"
      ]
     },
     "execution_count": 53,
     "metadata": {},
     "output_type": "execute_result"
    }
   ],
   "source": [
    "user_item_df['steam_id'].unique().shape"
   ]
  },
  {
   "cell_type": "code",
   "execution_count": 54,
   "metadata": {},
   "outputs": [
    {
     "data": {
      "text/plain": [
       "88310"
      ]
     },
     "execution_count": 54,
     "metadata": {},
     "output_type": "execute_result"
    }
   ],
   "source": [
    "user_item_df.shape[0]"
   ]
  },
  {
   "cell_type": "markdown",
   "metadata": {},
   "source": [
    "Duplicate steam users are due to redundant scraping<br>\n",
    "Below is an example"
   ]
  },
  {
   "cell_type": "code",
   "execution_count": 55,
   "metadata": {},
   "outputs": [
    {
     "data": {
      "text/html": [
       "<div>\n",
       "<style scoped>\n",
       "    .dataframe tbody tr th:only-of-type {\n",
       "        vertical-align: middle;\n",
       "    }\n",
       "\n",
       "    .dataframe tbody tr th {\n",
       "        vertical-align: top;\n",
       "    }\n",
       "\n",
       "    .dataframe thead th {\n",
       "        text-align: right;\n",
       "    }\n",
       "</style>\n",
       "<table border=\"1\" class=\"dataframe\">\n",
       "  <thead>\n",
       "    <tr style=\"text-align: right;\">\n",
       "      <th></th>\n",
       "      <th>items</th>\n",
       "      <th>items_count</th>\n",
       "      <th>steam_id</th>\n",
       "      <th>user_id</th>\n",
       "      <th>user_url</th>\n",
       "    </tr>\n",
       "  </thead>\n",
       "  <tbody>\n",
       "    <tr>\n",
       "      <th>94</th>\n",
       "      <td>[{'item_id': '320', 'item_name': 'Half-Life 2:...</td>\n",
       "      <td>51</td>\n",
       "      <td>76561198104187800</td>\n",
       "      <td>Rivtex</td>\n",
       "      <td>http://steamcommunity.com/id/Rivtex</td>\n",
       "    </tr>\n",
       "    <tr>\n",
       "      <th>5674</th>\n",
       "      <td>[{'item_id': '320', 'item_name': 'Half-Life 2:...</td>\n",
       "      <td>51</td>\n",
       "      <td>76561198104187800</td>\n",
       "      <td>Rivtex</td>\n",
       "      <td>http://steamcommunity.com/id/Rivtex</td>\n",
       "    </tr>\n",
       "  </tbody>\n",
       "</table>\n",
       "</div>"
      ],
      "text/plain": [
       "                                                  items  items_count  \\\n",
       "94    [{'item_id': '320', 'item_name': 'Half-Life 2:...           51   \n",
       "5674  [{'item_id': '320', 'item_name': 'Half-Life 2:...           51   \n",
       "\n",
       "               steam_id user_id                             user_url  \n",
       "94    76561198104187800  Rivtex  http://steamcommunity.com/id/Rivtex  \n",
       "5674  76561198104187800  Rivtex  http://steamcommunity.com/id/Rivtex  "
      ]
     },
     "execution_count": 55,
     "metadata": {},
     "output_type": "execute_result"
    }
   ],
   "source": [
    "user_item_df.loc[user_item_df['steam_id'] == '76561198104187800']"
   ]
  },
  {
   "cell_type": "code",
   "execution_count": 56,
   "metadata": {},
   "outputs": [],
   "source": [
    "user_item_df = user_item_df.loc[~user_item_df.duplicated(subset=['steam_id'])].reset_index(drop = True)"
   ]
  },
  {
   "cell_type": "markdown",
   "metadata": {},
   "source": [
    "Quite surprisingly no duplicate user names "
   ]
  },
  {
   "cell_type": "code",
   "execution_count": 57,
   "metadata": {},
   "outputs": [
    {
     "data": {
      "text/plain": [
       "True"
      ]
     },
     "execution_count": 57,
     "metadata": {},
     "output_type": "execute_result"
    }
   ],
   "source": [
    "user_item_df['steam_id'].unique().shape[0] == user_item_df['user_id'].unique().shape[0]"
   ]
  },
  {
   "cell_type": "markdown",
   "metadata": {},
   "source": [
    "### Finding: Secretive users\n",
    "**problem:** Some users in the dataset has items_count of 0 even though they have apparently made reviews about games they own according to the user_review dataset. <br>\n",
    "**Interpretation:** These users set their profile to private, making it not possible to scrape. This can be verified empirically if we click on the user_url<br>\n",
    "**Solution:** Remove these users for now. "
   ]
  },
  {
   "cell_type": "markdown",
   "metadata": {},
   "source": [
    "Example:"
   ]
  },
  {
   "cell_type": "code",
   "execution_count": 58,
   "metadata": {},
   "outputs": [
    {
     "data": {
      "text/html": [
       "<div>\n",
       "<style scoped>\n",
       "    .dataframe tbody tr th:only-of-type {\n",
       "        vertical-align: middle;\n",
       "    }\n",
       "\n",
       "    .dataframe tbody tr th {\n",
       "        vertical-align: top;\n",
       "    }\n",
       "\n",
       "    .dataframe thead th {\n",
       "        text-align: right;\n",
       "    }\n",
       "</style>\n",
       "<table border=\"1\" class=\"dataframe\">\n",
       "  <thead>\n",
       "    <tr style=\"text-align: right;\">\n",
       "      <th></th>\n",
       "      <th>funny</th>\n",
       "      <th>helpful</th>\n",
       "      <th>item_id</th>\n",
       "      <th>last_edited</th>\n",
       "      <th>posted</th>\n",
       "      <th>recommend</th>\n",
       "      <th>review</th>\n",
       "      <th>user_id</th>\n",
       "    </tr>\n",
       "  </thead>\n",
       "  <tbody>\n",
       "    <tr>\n",
       "      <th>10513</th>\n",
       "      <td>NaN</td>\n",
       "      <td>0 of 1 people (0%) found this review helpful</td>\n",
       "      <td>251570</td>\n",
       "      <td>NaN</td>\n",
       "      <td>2014-08-19</td>\n",
       "      <td>True</td>\n",
       "      <td>This Game is awesome, yeah theres bugs but it'...</td>\n",
       "      <td>76561198024978857</td>\n",
       "    </tr>\n",
       "    <tr>\n",
       "      <th>10514</th>\n",
       "      <td>NaN</td>\n",
       "      <td>No ratings yet</td>\n",
       "      <td>417860</td>\n",
       "      <td>NaN</td>\n",
       "      <td>2015-12-23</td>\n",
       "      <td>True</td>\n",
       "      <td>I cried myself to sleep after the ending</td>\n",
       "      <td>76561198024978857</td>\n",
       "    </tr>\n",
       "  </tbody>\n",
       "</table>\n",
       "</div>"
      ],
      "text/plain": [
       "      funny                                       helpful  item_id  \\\n",
       "10513   NaN  0 of 1 people (0%) found this review helpful   251570   \n",
       "10514   NaN                                No ratings yet   417860   \n",
       "\n",
       "      last_edited      posted  recommend  \\\n",
       "10513         NaN  2014-08-19       True   \n",
       "10514         NaN  2015-12-23       True   \n",
       "\n",
       "                                                  review            user_id  \n",
       "10513  This Game is awesome, yeah theres bugs but it'...  76561198024978857  \n",
       "10514           I cried myself to sleep after the ending  76561198024978857  "
      ]
     },
     "execution_count": 58,
     "metadata": {},
     "output_type": "execute_result"
    }
   ],
   "source": [
    "new_review_df.loc[new_review_df['user_id'] == '76561198024978857']"
   ]
  },
  {
   "cell_type": "markdown",
   "metadata": {},
   "source": [
    "Around 0.2 of the users kept their steam profile private"
   ]
  },
  {
   "cell_type": "code",
   "execution_count": 59,
   "metadata": {},
   "outputs": [
    {
     "data": {
      "text/plain": [
       "0.19073323823109842"
      ]
     },
     "execution_count": 59,
     "metadata": {},
     "output_type": "execute_result"
    }
   ],
   "source": [
    "(user_item_df['items_count'] == 0).mean()"
   ]
  },
  {
   "cell_type": "markdown",
   "metadata": {},
   "source": [
    "removing users with private profile"
   ]
  },
  {
   "cell_type": "code",
   "execution_count": 60,
   "metadata": {},
   "outputs": [
    {
     "data": {
      "text/html": [
       "<div>\n",
       "<style scoped>\n",
       "    .dataframe tbody tr th:only-of-type {\n",
       "        vertical-align: middle;\n",
       "    }\n",
       "\n",
       "    .dataframe tbody tr th {\n",
       "        vertical-align: top;\n",
       "    }\n",
       "\n",
       "    .dataframe thead th {\n",
       "        text-align: right;\n",
       "    }\n",
       "</style>\n",
       "<table border=\"1\" class=\"dataframe\">\n",
       "  <thead>\n",
       "    <tr style=\"text-align: right;\">\n",
       "      <th></th>\n",
       "      <th>items</th>\n",
       "      <th>items_count</th>\n",
       "      <th>steam_id</th>\n",
       "      <th>user_id</th>\n",
       "      <th>user_url</th>\n",
       "    </tr>\n",
       "  </thead>\n",
       "  <tbody>\n",
       "    <tr>\n",
       "      <th>0</th>\n",
       "      <td>[{'item_id': '10', 'item_name': 'Counter-Strik...</td>\n",
       "      <td>277</td>\n",
       "      <td>76561197970982479</td>\n",
       "      <td>76561197970982479</td>\n",
       "      <td>http://steamcommunity.com/profiles/76561197970...</td>\n",
       "    </tr>\n",
       "    <tr>\n",
       "      <th>1</th>\n",
       "      <td>[{'item_id': '10', 'item_name': 'Counter-Strik...</td>\n",
       "      <td>888</td>\n",
       "      <td>76561198035864385</td>\n",
       "      <td>js41637</td>\n",
       "      <td>http://steamcommunity.com/id/js41637</td>\n",
       "    </tr>\n",
       "    <tr>\n",
       "      <th>2</th>\n",
       "      <td>[{'item_id': '1200', 'item_name': 'Red Orchest...</td>\n",
       "      <td>137</td>\n",
       "      <td>76561198007712555</td>\n",
       "      <td>evcentric</td>\n",
       "      <td>http://steamcommunity.com/id/evcentric</td>\n",
       "    </tr>\n",
       "    <tr>\n",
       "      <th>3</th>\n",
       "      <td>[{'item_id': '10', 'item_name': 'Counter-Strik...</td>\n",
       "      <td>328</td>\n",
       "      <td>76561197963445855</td>\n",
       "      <td>Riot-Punch</td>\n",
       "      <td>http://steamcommunity.com/id/Riot-Punch</td>\n",
       "    </tr>\n",
       "    <tr>\n",
       "      <th>4</th>\n",
       "      <td>[{'item_id': '300', 'item_name': 'Day of Defea...</td>\n",
       "      <td>541</td>\n",
       "      <td>76561198002099482</td>\n",
       "      <td>doctr</td>\n",
       "      <td>http://steamcommunity.com/id/doctr</td>\n",
       "    </tr>\n",
       "  </tbody>\n",
       "</table>\n",
       "</div>"
      ],
      "text/plain": [
       "                                               items  items_count  \\\n",
       "0  [{'item_id': '10', 'item_name': 'Counter-Strik...          277   \n",
       "1  [{'item_id': '10', 'item_name': 'Counter-Strik...          888   \n",
       "2  [{'item_id': '1200', 'item_name': 'Red Orchest...          137   \n",
       "3  [{'item_id': '10', 'item_name': 'Counter-Strik...          328   \n",
       "4  [{'item_id': '300', 'item_name': 'Day of Defea...          541   \n",
       "\n",
       "            steam_id            user_id  \\\n",
       "0  76561197970982479  76561197970982479   \n",
       "1  76561198035864385            js41637   \n",
       "2  76561198007712555          evcentric   \n",
       "3  76561197963445855         Riot-Punch   \n",
       "4  76561198002099482              doctr   \n",
       "\n",
       "                                            user_url  \n",
       "0  http://steamcommunity.com/profiles/76561197970...  \n",
       "1               http://steamcommunity.com/id/js41637  \n",
       "2             http://steamcommunity.com/id/evcentric  \n",
       "3            http://steamcommunity.com/id/Riot-Punch  \n",
       "4                 http://steamcommunity.com/id/doctr  "
      ]
     },
     "execution_count": 60,
     "metadata": {},
     "output_type": "execute_result"
    }
   ],
   "source": [
    "user_item_df = user_item_df.loc[user_item_df['items_count'] != 0].reset_index(drop = True)\n",
    "user_item_df.head()"
   ]
  },
  {
   "cell_type": "code",
   "execution_count": 61,
   "metadata": {},
   "outputs": [],
   "source": [
    "def add_user_id_item(row):\n",
    "    user_id = row['user_id']\n",
    "    items_list = row['items']\n",
    "    for dct in items_list:\n",
    "        dct['user_id'] = user_id\n",
    "    return items_list"
   ]
  },
  {
   "cell_type": "code",
   "execution_count": 62,
   "metadata": {},
   "outputs": [],
   "source": [
    "modified_items = user_item_df.apply(add_user_id_item, axis = 1)"
   ]
  },
  {
   "cell_type": "code",
   "execution_count": 63,
   "metadata": {},
   "outputs": [
    {
     "data": {
      "text/plain": [
       "0    [{'item_id': '10', 'item_name': 'Counter-Strik...\n",
       "1    [{'item_id': '10', 'item_name': 'Counter-Strik...\n",
       "2    [{'item_id': '1200', 'item_name': 'Red Orchest...\n",
       "3    [{'item_id': '10', 'item_name': 'Counter-Strik...\n",
       "4    [{'item_id': '300', 'item_name': 'Day of Defea...\n",
       "dtype: object"
      ]
     },
     "execution_count": 63,
     "metadata": {},
     "output_type": "execute_result"
    }
   ],
   "source": [
    "modified_items.head()"
   ]
  },
  {
   "cell_type": "code",
   "execution_count": 64,
   "metadata": {},
   "outputs": [],
   "source": [
    "all_items = []\n",
    "for items_of_user in list(modified_items):\n",
    "    all_items += items_of_user"
   ]
  },
  {
   "cell_type": "code",
   "execution_count": 65,
   "metadata": {},
   "outputs": [],
   "source": [
    "user_item_detail = pd.DataFrame(all_items)"
   ]
  },
  {
   "cell_type": "markdown",
   "metadata": {},
   "source": [
    "-------------------------------------------"
   ]
  },
  {
   "cell_type": "code",
   "execution_count": 66,
   "metadata": {},
   "outputs": [
    {
     "data": {
      "text/html": [
       "<div>\n",
       "<style scoped>\n",
       "    .dataframe tbody tr th:only-of-type {\n",
       "        vertical-align: middle;\n",
       "    }\n",
       "\n",
       "    .dataframe tbody tr th {\n",
       "        vertical-align: top;\n",
       "    }\n",
       "\n",
       "    .dataframe thead th {\n",
       "        text-align: right;\n",
       "    }\n",
       "</style>\n",
       "<table border=\"1\" class=\"dataframe\">\n",
       "  <thead>\n",
       "    <tr style=\"text-align: right;\">\n",
       "      <th></th>\n",
       "      <th>item_id</th>\n",
       "      <th>item_name</th>\n",
       "      <th>playtime_2weeks</th>\n",
       "      <th>playtime_forever</th>\n",
       "      <th>user_id</th>\n",
       "    </tr>\n",
       "  </thead>\n",
       "  <tbody>\n",
       "    <tr>\n",
       "      <th>0</th>\n",
       "      <td>10</td>\n",
       "      <td>Counter-Strike</td>\n",
       "      <td>0</td>\n",
       "      <td>6</td>\n",
       "      <td>76561197970982479</td>\n",
       "    </tr>\n",
       "    <tr>\n",
       "      <th>1</th>\n",
       "      <td>20</td>\n",
       "      <td>Team Fortress Classic</td>\n",
       "      <td>0</td>\n",
       "      <td>0</td>\n",
       "      <td>76561197970982479</td>\n",
       "    </tr>\n",
       "    <tr>\n",
       "      <th>2</th>\n",
       "      <td>30</td>\n",
       "      <td>Day of Defeat</td>\n",
       "      <td>0</td>\n",
       "      <td>7</td>\n",
       "      <td>76561197970982479</td>\n",
       "    </tr>\n",
       "    <tr>\n",
       "      <th>3</th>\n",
       "      <td>40</td>\n",
       "      <td>Deathmatch Classic</td>\n",
       "      <td>0</td>\n",
       "      <td>0</td>\n",
       "      <td>76561197970982479</td>\n",
       "    </tr>\n",
       "    <tr>\n",
       "      <th>4</th>\n",
       "      <td>50</td>\n",
       "      <td>Half-Life: Opposing Force</td>\n",
       "      <td>0</td>\n",
       "      <td>0</td>\n",
       "      <td>76561197970982479</td>\n",
       "    </tr>\n",
       "  </tbody>\n",
       "</table>\n",
       "</div>"
      ],
      "text/plain": [
       "  item_id                  item_name  playtime_2weeks  playtime_forever  \\\n",
       "0      10             Counter-Strike                0                 6   \n",
       "1      20      Team Fortress Classic                0                 0   \n",
       "2      30              Day of Defeat                0                 7   \n",
       "3      40         Deathmatch Classic                0                 0   \n",
       "4      50  Half-Life: Opposing Force                0                 0   \n",
       "\n",
       "             user_id  \n",
       "0  76561197970982479  \n",
       "1  76561197970982479  \n",
       "2  76561197970982479  \n",
       "3  76561197970982479  \n",
       "4  76561197970982479  "
      ]
     },
     "execution_count": 66,
     "metadata": {},
     "output_type": "execute_result"
    }
   ],
   "source": [
    "user_item_detail.head()"
   ]
  },
  {
   "cell_type": "code",
   "execution_count": 67,
   "metadata": {},
   "outputs": [
    {
     "data": {
      "text/plain": [
       "(5094082, 5)"
      ]
     },
     "execution_count": 67,
     "metadata": {},
     "output_type": "execute_result"
    }
   ],
   "source": [
    "user_item_detail.shape"
   ]
  },
  {
   "cell_type": "markdown",
   "metadata": {},
   "source": [
    "# Part 2. Predictive Goal: Predict helpfulness of a game review based on user info\n",
    "**Context and Goal:** <br>\n",
    "When a game first came out and reviews first flooded in, it is hard for steam to recommend what reviews to put up in its most helpful reviews sections. It is less a problem for famous games since people will rush to agree/disagree with opinions but more of a problem for indie games that appeals to a more niche audience where reviews and readers of reviews are few and far between. <br>\n",
    "Not having predecessors to vote up helpful/funny comments makes the feedbacks from the community of these less popular games less informative. Potential buyers of these niche games may overlook the game due to the lack of informative comments suggested by Steam.<br>\n",
    "This particular task aims to address this problem faced by the potential customers of those niche games and hope that it can help them make better decision on whether or not to purchase the game.\n",
    "<br><br>\n",
    "**Definition of label:** a review is considered helpful when it stirs interaction - having people rate it as helpful/funny or not. It does not matter in this case whether or not people gives a thumbs up or thumbs down to the helpfulness of the review. For this project we only focus on whether or not there are people that bothered to give a thumbs up/down. <br><br>\n",
    "**Features for prediction:**"
   ]
  },
  {
   "cell_type": "code",
   "execution_count": 111,
   "metadata": {},
   "outputs": [],
   "source": [
    "df.to_csv('dahtah/final_dataset.csv', index = False)"
   ]
  },
  {
   "cell_type": "code",
   "execution_count": 112,
   "metadata": {},
   "outputs": [
    {
     "data": {
      "text/html": [
       "<div>\n",
       "<style scoped>\n",
       "    .dataframe tbody tr th:only-of-type {\n",
       "        vertical-align: middle;\n",
       "    }\n",
       "\n",
       "    .dataframe tbody tr th {\n",
       "        vertical-align: top;\n",
       "    }\n",
       "\n",
       "    .dataframe thead th {\n",
       "        text-align: right;\n",
       "    }\n",
       "</style>\n",
       "<table border=\"1\" class=\"dataframe\">\n",
       "  <thead>\n",
       "    <tr style=\"text-align: right;\">\n",
       "      <th></th>\n",
       "      <th>funny</th>\n",
       "      <th>helpful</th>\n",
       "      <th>item_id</th>\n",
       "      <th>last_edited</th>\n",
       "      <th>posted</th>\n",
       "      <th>recommend</th>\n",
       "      <th>review</th>\n",
       "      <th>user_id</th>\n",
       "      <th>user_item</th>\n",
       "    </tr>\n",
       "  </thead>\n",
       "  <tbody>\n",
       "    <tr>\n",
       "      <th>0</th>\n",
       "      <td>NaN</td>\n",
       "      <td>No ratings yet</td>\n",
       "      <td>1250</td>\n",
       "      <td>NaN</td>\n",
       "      <td>2011-11-05</td>\n",
       "      <td>True</td>\n",
       "      <td>Simple yet with great replayability. In my opi...</td>\n",
       "      <td>76561197970982479</td>\n",
       "      <td>(76561197970982479, 1250)</td>\n",
       "    </tr>\n",
       "    <tr>\n",
       "      <th>1</th>\n",
       "      <td>NaN</td>\n",
       "      <td>No ratings yet</td>\n",
       "      <td>22200</td>\n",
       "      <td>NaN</td>\n",
       "      <td>2011-07-15</td>\n",
       "      <td>True</td>\n",
       "      <td>It's unique and worth a playthrough.</td>\n",
       "      <td>76561197970982479</td>\n",
       "      <td>(76561197970982479, 22200)</td>\n",
       "    </tr>\n",
       "    <tr>\n",
       "      <th>2</th>\n",
       "      <td>NaN</td>\n",
       "      <td>No ratings yet</td>\n",
       "      <td>43110</td>\n",
       "      <td>NaN</td>\n",
       "      <td>2011-04-21</td>\n",
       "      <td>True</td>\n",
       "      <td>Great atmosphere. The gunplay can be a bit chu...</td>\n",
       "      <td>76561197970982479</td>\n",
       "      <td>(76561197970982479, 43110)</td>\n",
       "    </tr>\n",
       "    <tr>\n",
       "      <th>3</th>\n",
       "      <td>NaN</td>\n",
       "      <td>15 of 20 people (75%) found this review helpful</td>\n",
       "      <td>251610</td>\n",
       "      <td>NaN</td>\n",
       "      <td>2014-06-24</td>\n",
       "      <td>True</td>\n",
       "      <td>I know what you think when you see this title ...</td>\n",
       "      <td>js41637</td>\n",
       "      <td>(js41637, 251610)</td>\n",
       "    </tr>\n",
       "    <tr>\n",
       "      <th>4</th>\n",
       "      <td>NaN</td>\n",
       "      <td>0 of 1 people (0%) found this review helpful</td>\n",
       "      <td>227300</td>\n",
       "      <td>NaN</td>\n",
       "      <td>2013-09-08</td>\n",
       "      <td>True</td>\n",
       "      <td>For a simple (it's actually not all that simpl...</td>\n",
       "      <td>js41637</td>\n",
       "      <td>(js41637, 227300)</td>\n",
       "    </tr>\n",
       "  </tbody>\n",
       "</table>\n",
       "</div>"
      ],
      "text/plain": [
       "  funny                                          helpful item_id last_edited  \\\n",
       "0   NaN                                   No ratings yet    1250         NaN   \n",
       "1   NaN                                   No ratings yet   22200         NaN   \n",
       "2   NaN                                   No ratings yet   43110         NaN   \n",
       "3   NaN  15 of 20 people (75%) found this review helpful  251610         NaN   \n",
       "4   NaN     0 of 1 people (0%) found this review helpful  227300         NaN   \n",
       "\n",
       "       posted  recommend                                             review  \\\n",
       "0  2011-11-05       True  Simple yet with great replayability. In my opi...   \n",
       "1  2011-07-15       True               It's unique and worth a playthrough.   \n",
       "2  2011-04-21       True  Great atmosphere. The gunplay can be a bit chu...   \n",
       "3  2014-06-24       True  I know what you think when you see this title ...   \n",
       "4  2013-09-08       True  For a simple (it's actually not all that simpl...   \n",
       "\n",
       "             user_id                   user_item  \n",
       "0  76561197970982479   (76561197970982479, 1250)  \n",
       "1  76561197970982479  (76561197970982479, 22200)  \n",
       "2  76561197970982479  (76561197970982479, 43110)  \n",
       "3            js41637           (js41637, 251610)  \n",
       "4            js41637           (js41637, 227300)  "
      ]
     },
     "execution_count": 112,
     "metadata": {},
     "output_type": "execute_result"
    }
   ],
   "source": [
    "new_review_df.head()"
   ]
  },
  {
   "cell_type": "code",
   "execution_count": 113,
   "metadata": {},
   "outputs": [
    {
     "data": {
      "text/html": [
       "<div>\n",
       "<style scoped>\n",
       "    .dataframe tbody tr th:only-of-type {\n",
       "        vertical-align: middle;\n",
       "    }\n",
       "\n",
       "    .dataframe tbody tr th {\n",
       "        vertical-align: top;\n",
       "    }\n",
       "\n",
       "    .dataframe thead th {\n",
       "        text-align: right;\n",
       "    }\n",
       "</style>\n",
       "<table border=\"1\" class=\"dataframe\">\n",
       "  <thead>\n",
       "    <tr style=\"text-align: right;\">\n",
       "      <th></th>\n",
       "      <th>item_id</th>\n",
       "      <th>item_name</th>\n",
       "      <th>playtime_2weeks</th>\n",
       "      <th>playtime_forever</th>\n",
       "      <th>user_id</th>\n",
       "      <th>user_item</th>\n",
       "    </tr>\n",
       "  </thead>\n",
       "  <tbody>\n",
       "    <tr>\n",
       "      <th>0</th>\n",
       "      <td>10</td>\n",
       "      <td>Counter-Strike</td>\n",
       "      <td>0</td>\n",
       "      <td>6</td>\n",
       "      <td>76561197970982479</td>\n",
       "      <td>(76561197970982479, 10)</td>\n",
       "    </tr>\n",
       "    <tr>\n",
       "      <th>1</th>\n",
       "      <td>20</td>\n",
       "      <td>Team Fortress Classic</td>\n",
       "      <td>0</td>\n",
       "      <td>0</td>\n",
       "      <td>76561197970982479</td>\n",
       "      <td>(76561197970982479, 20)</td>\n",
       "    </tr>\n",
       "    <tr>\n",
       "      <th>2</th>\n",
       "      <td>30</td>\n",
       "      <td>Day of Defeat</td>\n",
       "      <td>0</td>\n",
       "      <td>7</td>\n",
       "      <td>76561197970982479</td>\n",
       "      <td>(76561197970982479, 30)</td>\n",
       "    </tr>\n",
       "    <tr>\n",
       "      <th>3</th>\n",
       "      <td>40</td>\n",
       "      <td>Deathmatch Classic</td>\n",
       "      <td>0</td>\n",
       "      <td>0</td>\n",
       "      <td>76561197970982479</td>\n",
       "      <td>(76561197970982479, 40)</td>\n",
       "    </tr>\n",
       "    <tr>\n",
       "      <th>4</th>\n",
       "      <td>50</td>\n",
       "      <td>Half-Life: Opposing Force</td>\n",
       "      <td>0</td>\n",
       "      <td>0</td>\n",
       "      <td>76561197970982479</td>\n",
       "      <td>(76561197970982479, 50)</td>\n",
       "    </tr>\n",
       "  </tbody>\n",
       "</table>\n",
       "</div>"
      ],
      "text/plain": [
       "  item_id                  item_name  playtime_2weeks  playtime_forever  \\\n",
       "0      10             Counter-Strike                0                 6   \n",
       "1      20      Team Fortress Classic                0                 0   \n",
       "2      30              Day of Defeat                0                 7   \n",
       "3      40         Deathmatch Classic                0                 0   \n",
       "4      50  Half-Life: Opposing Force                0                 0   \n",
       "\n",
       "             user_id                user_item  \n",
       "0  76561197970982479  (76561197970982479, 10)  \n",
       "1  76561197970982479  (76561197970982479, 20)  \n",
       "2  76561197970982479  (76561197970982479, 30)  \n",
       "3  76561197970982479  (76561197970982479, 40)  \n",
       "4  76561197970982479  (76561197970982479, 50)  "
      ]
     },
     "execution_count": 113,
     "metadata": {},
     "output_type": "execute_result"
    }
   ],
   "source": [
    "user_item_detail.head()"
   ]
  },
  {
   "cell_type": "code",
   "execution_count": 135,
   "metadata": {},
   "outputs": [],
   "source": [
    "new_review_df['item_id'] = new_review_df['item_id'].astype(str)"
   ]
  },
  {
   "cell_type": "code",
   "execution_count": 136,
   "metadata": {},
   "outputs": [],
   "source": [
    "user_item_detail['user_item'] = list(zip(user_item_detail['user_id'], user_item_detail['item_id']))"
   ]
  },
  {
   "cell_type": "code",
   "execution_count": 137,
   "metadata": {},
   "outputs": [
    {
     "data": {
      "text/html": [
       "<div>\n",
       "<style scoped>\n",
       "    .dataframe tbody tr th:only-of-type {\n",
       "        vertical-align: middle;\n",
       "    }\n",
       "\n",
       "    .dataframe tbody tr th {\n",
       "        vertical-align: top;\n",
       "    }\n",
       "\n",
       "    .dataframe thead th {\n",
       "        text-align: right;\n",
       "    }\n",
       "</style>\n",
       "<table border=\"1\" class=\"dataframe\">\n",
       "  <thead>\n",
       "    <tr style=\"text-align: right;\">\n",
       "      <th></th>\n",
       "      <th>item_id</th>\n",
       "      <th>item_name</th>\n",
       "      <th>playtime_2weeks</th>\n",
       "      <th>playtime_forever</th>\n",
       "      <th>user_id</th>\n",
       "      <th>user_item</th>\n",
       "    </tr>\n",
       "  </thead>\n",
       "  <tbody>\n",
       "    <tr>\n",
       "      <th>0</th>\n",
       "      <td>10</td>\n",
       "      <td>Counter-Strike</td>\n",
       "      <td>0</td>\n",
       "      <td>6</td>\n",
       "      <td>76561197970982479</td>\n",
       "      <td>(76561197970982479, 10)</td>\n",
       "    </tr>\n",
       "    <tr>\n",
       "      <th>1</th>\n",
       "      <td>20</td>\n",
       "      <td>Team Fortress Classic</td>\n",
       "      <td>0</td>\n",
       "      <td>0</td>\n",
       "      <td>76561197970982479</td>\n",
       "      <td>(76561197970982479, 20)</td>\n",
       "    </tr>\n",
       "    <tr>\n",
       "      <th>2</th>\n",
       "      <td>30</td>\n",
       "      <td>Day of Defeat</td>\n",
       "      <td>0</td>\n",
       "      <td>7</td>\n",
       "      <td>76561197970982479</td>\n",
       "      <td>(76561197970982479, 30)</td>\n",
       "    </tr>\n",
       "    <tr>\n",
       "      <th>3</th>\n",
       "      <td>40</td>\n",
       "      <td>Deathmatch Classic</td>\n",
       "      <td>0</td>\n",
       "      <td>0</td>\n",
       "      <td>76561197970982479</td>\n",
       "      <td>(76561197970982479, 40)</td>\n",
       "    </tr>\n",
       "    <tr>\n",
       "      <th>4</th>\n",
       "      <td>50</td>\n",
       "      <td>Half-Life: Opposing Force</td>\n",
       "      <td>0</td>\n",
       "      <td>0</td>\n",
       "      <td>76561197970982479</td>\n",
       "      <td>(76561197970982479, 50)</td>\n",
       "    </tr>\n",
       "  </tbody>\n",
       "</table>\n",
       "</div>"
      ],
      "text/plain": [
       "  item_id                  item_name  playtime_2weeks  playtime_forever  \\\n",
       "0      10             Counter-Strike                0                 6   \n",
       "1      20      Team Fortress Classic                0                 0   \n",
       "2      30              Day of Defeat                0                 7   \n",
       "3      40         Deathmatch Classic                0                 0   \n",
       "4      50  Half-Life: Opposing Force                0                 0   \n",
       "\n",
       "             user_id                user_item  \n",
       "0  76561197970982479  (76561197970982479, 10)  \n",
       "1  76561197970982479  (76561197970982479, 20)  \n",
       "2  76561197970982479  (76561197970982479, 30)  \n",
       "3  76561197970982479  (76561197970982479, 40)  \n",
       "4  76561197970982479  (76561197970982479, 50)  "
      ]
     },
     "execution_count": 137,
     "metadata": {},
     "output_type": "execute_result"
    }
   ],
   "source": [
    "user_item_detail.head()"
   ]
  },
  {
   "cell_type": "code",
   "execution_count": 138,
   "metadata": {},
   "outputs": [],
   "source": [
    "new_review_df['user_item'] = list(zip(new_review_df['user_id'], new_review_df['item_id']))"
   ]
  },
  {
   "cell_type": "code",
   "execution_count": 139,
   "metadata": {},
   "outputs": [
    {
     "data": {
      "text/html": [
       "<div>\n",
       "<style scoped>\n",
       "    .dataframe tbody tr th:only-of-type {\n",
       "        vertical-align: middle;\n",
       "    }\n",
       "\n",
       "    .dataframe tbody tr th {\n",
       "        vertical-align: top;\n",
       "    }\n",
       "\n",
       "    .dataframe thead th {\n",
       "        text-align: right;\n",
       "    }\n",
       "</style>\n",
       "<table border=\"1\" class=\"dataframe\">\n",
       "  <thead>\n",
       "    <tr style=\"text-align: right;\">\n",
       "      <th></th>\n",
       "      <th>funny</th>\n",
       "      <th>helpful</th>\n",
       "      <th>item_id</th>\n",
       "      <th>last_edited</th>\n",
       "      <th>posted</th>\n",
       "      <th>recommend</th>\n",
       "      <th>review</th>\n",
       "      <th>user_id</th>\n",
       "      <th>user_item</th>\n",
       "    </tr>\n",
       "  </thead>\n",
       "  <tbody>\n",
       "    <tr>\n",
       "      <th>0</th>\n",
       "      <td>NaN</td>\n",
       "      <td>No ratings yet</td>\n",
       "      <td>1250</td>\n",
       "      <td>NaN</td>\n",
       "      <td>2011-11-05</td>\n",
       "      <td>True</td>\n",
       "      <td>Simple yet with great replayability. In my opi...</td>\n",
       "      <td>76561197970982479</td>\n",
       "      <td>(76561197970982479, 1250)</td>\n",
       "    </tr>\n",
       "    <tr>\n",
       "      <th>1</th>\n",
       "      <td>NaN</td>\n",
       "      <td>No ratings yet</td>\n",
       "      <td>22200</td>\n",
       "      <td>NaN</td>\n",
       "      <td>2011-07-15</td>\n",
       "      <td>True</td>\n",
       "      <td>It's unique and worth a playthrough.</td>\n",
       "      <td>76561197970982479</td>\n",
       "      <td>(76561197970982479, 22200)</td>\n",
       "    </tr>\n",
       "    <tr>\n",
       "      <th>2</th>\n",
       "      <td>NaN</td>\n",
       "      <td>No ratings yet</td>\n",
       "      <td>43110</td>\n",
       "      <td>NaN</td>\n",
       "      <td>2011-04-21</td>\n",
       "      <td>True</td>\n",
       "      <td>Great atmosphere. The gunplay can be a bit chu...</td>\n",
       "      <td>76561197970982479</td>\n",
       "      <td>(76561197970982479, 43110)</td>\n",
       "    </tr>\n",
       "    <tr>\n",
       "      <th>3</th>\n",
       "      <td>NaN</td>\n",
       "      <td>15 of 20 people (75%) found this review helpful</td>\n",
       "      <td>251610</td>\n",
       "      <td>NaN</td>\n",
       "      <td>2014-06-24</td>\n",
       "      <td>True</td>\n",
       "      <td>I know what you think when you see this title ...</td>\n",
       "      <td>js41637</td>\n",
       "      <td>(js41637, 251610)</td>\n",
       "    </tr>\n",
       "    <tr>\n",
       "      <th>4</th>\n",
       "      <td>NaN</td>\n",
       "      <td>0 of 1 people (0%) found this review helpful</td>\n",
       "      <td>227300</td>\n",
       "      <td>NaN</td>\n",
       "      <td>2013-09-08</td>\n",
       "      <td>True</td>\n",
       "      <td>For a simple (it's actually not all that simpl...</td>\n",
       "      <td>js41637</td>\n",
       "      <td>(js41637, 227300)</td>\n",
       "    </tr>\n",
       "  </tbody>\n",
       "</table>\n",
       "</div>"
      ],
      "text/plain": [
       "  funny                                          helpful item_id last_edited  \\\n",
       "0   NaN                                   No ratings yet    1250         NaN   \n",
       "1   NaN                                   No ratings yet   22200         NaN   \n",
       "2   NaN                                   No ratings yet   43110         NaN   \n",
       "3   NaN  15 of 20 people (75%) found this review helpful  251610         NaN   \n",
       "4   NaN     0 of 1 people (0%) found this review helpful  227300         NaN   \n",
       "\n",
       "       posted  recommend                                             review  \\\n",
       "0  2011-11-05       True  Simple yet with great replayability. In my opi...   \n",
       "1  2011-07-15       True               It's unique and worth a playthrough.   \n",
       "2  2011-04-21       True  Great atmosphere. The gunplay can be a bit chu...   \n",
       "3  2014-06-24       True  I know what you think when you see this title ...   \n",
       "4  2013-09-08       True  For a simple (it's actually not all that simpl...   \n",
       "\n",
       "             user_id                   user_item  \n",
       "0  76561197970982479   (76561197970982479, 1250)  \n",
       "1  76561197970982479  (76561197970982479, 22200)  \n",
       "2  76561197970982479  (76561197970982479, 43110)  \n",
       "3            js41637           (js41637, 251610)  \n",
       "4            js41637           (js41637, 227300)  "
      ]
     },
     "execution_count": 139,
     "metadata": {},
     "output_type": "execute_result"
    }
   ],
   "source": [
    "new_review_df.head()"
   ]
  },
  {
   "cell_type": "code",
   "execution_count": 140,
   "metadata": {},
   "outputs": [],
   "source": [
    "df = pd.merge(new_review_df, user_item_detail.drop(['user_id', 'item_id'], axis = 1), on = 'user_item', how = 'inner')"
   ]
  },
  {
   "cell_type": "code",
   "execution_count": 141,
   "metadata": {},
   "outputs": [
    {
     "data": {
      "text/html": [
       "<div>\n",
       "<style scoped>\n",
       "    .dataframe tbody tr th:only-of-type {\n",
       "        vertical-align: middle;\n",
       "    }\n",
       "\n",
       "    .dataframe tbody tr th {\n",
       "        vertical-align: top;\n",
       "    }\n",
       "\n",
       "    .dataframe thead th {\n",
       "        text-align: right;\n",
       "    }\n",
       "</style>\n",
       "<table border=\"1\" class=\"dataframe\">\n",
       "  <thead>\n",
       "    <tr style=\"text-align: right;\">\n",
       "      <th></th>\n",
       "      <th>funny</th>\n",
       "      <th>helpful</th>\n",
       "      <th>item_id</th>\n",
       "      <th>last_edited</th>\n",
       "      <th>posted</th>\n",
       "      <th>recommend</th>\n",
       "      <th>review</th>\n",
       "      <th>user_id</th>\n",
       "      <th>user_item</th>\n",
       "      <th>item_name</th>\n",
       "      <th>playtime_2weeks</th>\n",
       "      <th>playtime_forever</th>\n",
       "    </tr>\n",
       "  </thead>\n",
       "  <tbody>\n",
       "    <tr>\n",
       "      <th>0</th>\n",
       "      <td>NaN</td>\n",
       "      <td>No ratings yet</td>\n",
       "      <td>1250</td>\n",
       "      <td>NaN</td>\n",
       "      <td>2011-11-05</td>\n",
       "      <td>True</td>\n",
       "      <td>Simple yet with great replayability. In my opi...</td>\n",
       "      <td>76561197970982479</td>\n",
       "      <td>(76561197970982479, 1250)</td>\n",
       "      <td>Killing Floor</td>\n",
       "      <td>0</td>\n",
       "      <td>10006</td>\n",
       "    </tr>\n",
       "    <tr>\n",
       "      <th>1</th>\n",
       "      <td>NaN</td>\n",
       "      <td>No ratings yet</td>\n",
       "      <td>22200</td>\n",
       "      <td>NaN</td>\n",
       "      <td>2011-07-15</td>\n",
       "      <td>True</td>\n",
       "      <td>It's unique and worth a playthrough.</td>\n",
       "      <td>76561197970982479</td>\n",
       "      <td>(76561197970982479, 22200)</td>\n",
       "      <td>Zeno Clash</td>\n",
       "      <td>0</td>\n",
       "      <td>271</td>\n",
       "    </tr>\n",
       "    <tr>\n",
       "      <th>2</th>\n",
       "      <td>NaN</td>\n",
       "      <td>No ratings yet</td>\n",
       "      <td>43110</td>\n",
       "      <td>NaN</td>\n",
       "      <td>2011-04-21</td>\n",
       "      <td>True</td>\n",
       "      <td>Great atmosphere. The gunplay can be a bit chu...</td>\n",
       "      <td>76561197970982479</td>\n",
       "      <td>(76561197970982479, 43110)</td>\n",
       "      <td>Metro 2033</td>\n",
       "      <td>0</td>\n",
       "      <td>834</td>\n",
       "    </tr>\n",
       "    <tr>\n",
       "      <th>3</th>\n",
       "      <td>NaN</td>\n",
       "      <td>15 of 20 people (75%) found this review helpful</td>\n",
       "      <td>251610</td>\n",
       "      <td>NaN</td>\n",
       "      <td>2014-06-24</td>\n",
       "      <td>True</td>\n",
       "      <td>I know what you think when you see this title ...</td>\n",
       "      <td>js41637</td>\n",
       "      <td>(js41637, 251610)</td>\n",
       "      <td>Barbie™ Dreamhouse Party™</td>\n",
       "      <td>0</td>\n",
       "      <td>84</td>\n",
       "    </tr>\n",
       "    <tr>\n",
       "      <th>4</th>\n",
       "      <td>NaN</td>\n",
       "      <td>0 of 1 people (0%) found this review helpful</td>\n",
       "      <td>227300</td>\n",
       "      <td>NaN</td>\n",
       "      <td>2013-09-08</td>\n",
       "      <td>True</td>\n",
       "      <td>For a simple (it's actually not all that simpl...</td>\n",
       "      <td>js41637</td>\n",
       "      <td>(js41637, 227300)</td>\n",
       "      <td>Euro Truck Simulator 2</td>\n",
       "      <td>0</td>\n",
       "      <td>551</td>\n",
       "    </tr>\n",
       "  </tbody>\n",
       "</table>\n",
       "</div>"
      ],
      "text/plain": [
       "  funny                                          helpful item_id last_edited  \\\n",
       "0   NaN                                   No ratings yet    1250         NaN   \n",
       "1   NaN                                   No ratings yet   22200         NaN   \n",
       "2   NaN                                   No ratings yet   43110         NaN   \n",
       "3   NaN  15 of 20 people (75%) found this review helpful  251610         NaN   \n",
       "4   NaN     0 of 1 people (0%) found this review helpful  227300         NaN   \n",
       "\n",
       "       posted  recommend                                             review  \\\n",
       "0  2011-11-05       True  Simple yet with great replayability. In my opi...   \n",
       "1  2011-07-15       True               It's unique and worth a playthrough.   \n",
       "2  2011-04-21       True  Great atmosphere. The gunplay can be a bit chu...   \n",
       "3  2014-06-24       True  I know what you think when you see this title ...   \n",
       "4  2013-09-08       True  For a simple (it's actually not all that simpl...   \n",
       "\n",
       "             user_id                   user_item                  item_name  \\\n",
       "0  76561197970982479   (76561197970982479, 1250)              Killing Floor   \n",
       "1  76561197970982479  (76561197970982479, 22200)                 Zeno Clash   \n",
       "2  76561197970982479  (76561197970982479, 43110)                 Metro 2033   \n",
       "3            js41637           (js41637, 251610)  Barbie™ Dreamhouse Party™   \n",
       "4            js41637           (js41637, 227300)     Euro Truck Simulator 2   \n",
       "\n",
       "   playtime_2weeks  playtime_forever  \n",
       "0                0             10006  \n",
       "1                0               271  \n",
       "2                0               834  \n",
       "3                0                84  \n",
       "4                0               551  "
      ]
     },
     "execution_count": 141,
     "metadata": {},
     "output_type": "execute_result"
    }
   ],
   "source": [
    "df.head()"
   ]
  },
  {
   "cell_type": "code",
   "execution_count": 142,
   "metadata": {},
   "outputs": [],
   "source": [
    "def clean_helpful(ratings):\n",
    "    if ratings == 'No ratings yet':\n",
    "        return 0\n",
    "    else:\n",
    "        return int(ratings.split()[2].replace(',', ''))"
   ]
  },
  {
   "cell_type": "code",
   "execution_count": 143,
   "metadata": {},
   "outputs": [],
   "source": [
    "df['helpful_vote'] = df['helpful'].apply(clean_helpful)"
   ]
  },
  {
   "cell_type": "code",
   "execution_count": 144,
   "metadata": {},
   "outputs": [],
   "source": [
    "df['labels'] = (~df['funny'].isnull()) | (df['helpful']!='No ratings yet')"
   ]
  },
  {
   "cell_type": "code",
   "execution_count": 146,
   "metadata": {},
   "outputs": [],
   "source": [
    "import string"
   ]
  },
  {
   "cell_type": "markdown",
   "metadata": {},
   "source": [
    "Clean up the strings of reviews a bit"
   ]
  },
  {
   "cell_type": "code",
   "execution_count": 147,
   "metadata": {
    "scrolled": false
   },
   "outputs": [],
   "source": [
    "df['review'] = df['review'].fillna('')"
   ]
  },
  {
   "cell_type": "code",
   "execution_count": 148,
   "metadata": {},
   "outputs": [],
   "source": [
    "df['review'] = df['review'].apply(lambda x: x.lower().translate(str.maketrans('', '', string.punctuation)))"
   ]
  },
  {
   "cell_type": "code",
   "execution_count": 157,
   "metadata": {},
   "outputs": [],
   "source": [
    "df['review_length'] = df['review'].apply(lambda x: len(x.split()))"
   ]
  },
  {
   "cell_type": "code",
   "execution_count": 158,
   "metadata": {},
   "outputs": [
    {
     "data": {
      "text/html": [
       "<div>\n",
       "<style scoped>\n",
       "    .dataframe tbody tr th:only-of-type {\n",
       "        vertical-align: middle;\n",
       "    }\n",
       "\n",
       "    .dataframe tbody tr th {\n",
       "        vertical-align: top;\n",
       "    }\n",
       "\n",
       "    .dataframe thead th {\n",
       "        text-align: right;\n",
       "    }\n",
       "</style>\n",
       "<table border=\"1\" class=\"dataframe\">\n",
       "  <thead>\n",
       "    <tr style=\"text-align: right;\">\n",
       "      <th></th>\n",
       "      <th>funny</th>\n",
       "      <th>helpful</th>\n",
       "      <th>item_id</th>\n",
       "      <th>last_edited</th>\n",
       "      <th>posted</th>\n",
       "      <th>recommend</th>\n",
       "      <th>review</th>\n",
       "      <th>user_id</th>\n",
       "      <th>user_item</th>\n",
       "      <th>item_name</th>\n",
       "      <th>playtime_2weeks</th>\n",
       "      <th>playtime_forever</th>\n",
       "      <th>helpful_vote</th>\n",
       "      <th>labels</th>\n",
       "      <th>review_length</th>\n",
       "    </tr>\n",
       "  </thead>\n",
       "  <tbody>\n",
       "    <tr>\n",
       "      <th>0</th>\n",
       "      <td>NaN</td>\n",
       "      <td>No ratings yet</td>\n",
       "      <td>1250</td>\n",
       "      <td>NaN</td>\n",
       "      <td>2011-11-05</td>\n",
       "      <td>True</td>\n",
       "      <td>simple yet with great replayability in my opin...</td>\n",
       "      <td>76561197970982479</td>\n",
       "      <td>(76561197970982479, 1250)</td>\n",
       "      <td>Killing Floor</td>\n",
       "      <td>0</td>\n",
       "      <td>10006</td>\n",
       "      <td>0</td>\n",
       "      <td>False</td>\n",
       "      <td>45</td>\n",
       "    </tr>\n",
       "    <tr>\n",
       "      <th>1</th>\n",
       "      <td>NaN</td>\n",
       "      <td>No ratings yet</td>\n",
       "      <td>22200</td>\n",
       "      <td>NaN</td>\n",
       "      <td>2011-07-15</td>\n",
       "      <td>True</td>\n",
       "      <td>its unique and worth a playthrough</td>\n",
       "      <td>76561197970982479</td>\n",
       "      <td>(76561197970982479, 22200)</td>\n",
       "      <td>Zeno Clash</td>\n",
       "      <td>0</td>\n",
       "      <td>271</td>\n",
       "      <td>0</td>\n",
       "      <td>False</td>\n",
       "      <td>6</td>\n",
       "    </tr>\n",
       "    <tr>\n",
       "      <th>2</th>\n",
       "      <td>NaN</td>\n",
       "      <td>No ratings yet</td>\n",
       "      <td>43110</td>\n",
       "      <td>NaN</td>\n",
       "      <td>2011-04-21</td>\n",
       "      <td>True</td>\n",
       "      <td>great atmosphere the gunplay can be a bit chun...</td>\n",
       "      <td>76561197970982479</td>\n",
       "      <td>(76561197970982479, 43110)</td>\n",
       "      <td>Metro 2033</td>\n",
       "      <td>0</td>\n",
       "      <td>834</td>\n",
       "      <td>0</td>\n",
       "      <td>False</td>\n",
       "      <td>39</td>\n",
       "    </tr>\n",
       "    <tr>\n",
       "      <th>3</th>\n",
       "      <td>NaN</td>\n",
       "      <td>15 of 20 people (75%) found this review helpful</td>\n",
       "      <td>251610</td>\n",
       "      <td>NaN</td>\n",
       "      <td>2014-06-24</td>\n",
       "      <td>True</td>\n",
       "      <td>i know what you think when you see this title ...</td>\n",
       "      <td>js41637</td>\n",
       "      <td>(js41637, 251610)</td>\n",
       "      <td>Barbie™ Dreamhouse Party™</td>\n",
       "      <td>0</td>\n",
       "      <td>84</td>\n",
       "      <td>20</td>\n",
       "      <td>True</td>\n",
       "      <td>110</td>\n",
       "    </tr>\n",
       "    <tr>\n",
       "      <th>4</th>\n",
       "      <td>NaN</td>\n",
       "      <td>0 of 1 people (0%) found this review helpful</td>\n",
       "      <td>227300</td>\n",
       "      <td>NaN</td>\n",
       "      <td>2013-09-08</td>\n",
       "      <td>True</td>\n",
       "      <td>for a simple its actually not all that simple ...</td>\n",
       "      <td>js41637</td>\n",
       "      <td>(js41637, 227300)</td>\n",
       "      <td>Euro Truck Simulator 2</td>\n",
       "      <td>0</td>\n",
       "      <td>551</td>\n",
       "      <td>1</td>\n",
       "      <td>True</td>\n",
       "      <td>116</td>\n",
       "    </tr>\n",
       "  </tbody>\n",
       "</table>\n",
       "</div>"
      ],
      "text/plain": [
       "  funny                                          helpful item_id last_edited  \\\n",
       "0   NaN                                   No ratings yet    1250         NaN   \n",
       "1   NaN                                   No ratings yet   22200         NaN   \n",
       "2   NaN                                   No ratings yet   43110         NaN   \n",
       "3   NaN  15 of 20 people (75%) found this review helpful  251610         NaN   \n",
       "4   NaN     0 of 1 people (0%) found this review helpful  227300         NaN   \n",
       "\n",
       "       posted  recommend                                             review  \\\n",
       "0  2011-11-05       True  simple yet with great replayability in my opin...   \n",
       "1  2011-07-15       True                 its unique and worth a playthrough   \n",
       "2  2011-04-21       True  great atmosphere the gunplay can be a bit chun...   \n",
       "3  2014-06-24       True  i know what you think when you see this title ...   \n",
       "4  2013-09-08       True  for a simple its actually not all that simple ...   \n",
       "\n",
       "             user_id                   user_item                  item_name  \\\n",
       "0  76561197970982479   (76561197970982479, 1250)              Killing Floor   \n",
       "1  76561197970982479  (76561197970982479, 22200)                 Zeno Clash   \n",
       "2  76561197970982479  (76561197970982479, 43110)                 Metro 2033   \n",
       "3            js41637           (js41637, 251610)  Barbie™ Dreamhouse Party™   \n",
       "4            js41637           (js41637, 227300)     Euro Truck Simulator 2   \n",
       "\n",
       "   playtime_2weeks  playtime_forever  helpful_vote  labels  review_length  \n",
       "0                0             10006             0   False             45  \n",
       "1                0               271             0   False              6  \n",
       "2                0               834             0   False             39  \n",
       "3                0                84            20    True            110  \n",
       "4                0               551             1    True            116  "
      ]
     },
     "execution_count": 158,
     "metadata": {},
     "output_type": "execute_result"
    }
   ],
   "source": [
    "df.head()"
   ]
  },
  {
   "cell_type": "markdown",
   "metadata": {},
   "source": [
    "## Some exploratory viz"
   ]
  },
  {
   "cell_type": "code",
   "execution_count": 149,
   "metadata": {},
   "outputs": [],
   "source": [
    "import matplotlib.pyplot as plt\n",
    "import seaborn as sns"
   ]
  },
  {
   "cell_type": "code",
   "execution_count": 150,
   "metadata": {},
   "outputs": [
    {
     "data": {
      "text/plain": [
       "<matplotlib.axes._subplots.AxesSubplot at 0x1e2dc098b00>"
      ]
     },
     "execution_count": 150,
     "metadata": {},
     "output_type": "execute_result"
    },
    {
     "data": {
      "image/png": "[encoded data removed]",
      "text/plain": [
       "<Figure size 432x288 with 1 Axes>"
      ]
     },
     "metadata": {
      "needs_background": "light"
     },
     "output_type": "display_data"
    }
   ],
   "source": [
    "sns.scatterplot(x = 'playtime_forever', y = 'helpful_vote', data = df.loc[df['playtime_forever']<10000])"
   ]
  },
  {
   "cell_type": "markdown",
   "metadata": {},
   "source": [
    "Conclusion: total playtime of a game does not affect whether or not a person's comment would stir interaction"
   ]
  },
  {
   "cell_type": "code",
   "execution_count": 151,
   "metadata": {},
   "outputs": [
    {
     "data": {
      "text/plain": [
       "<matplotlib.axes._subplots.AxesSubplot at 0x1e2dc0ee160>"
      ]
     },
     "execution_count": 151,
     "metadata": {},
     "output_type": "execute_result"
    },
    {
     "data": {
      "image/png": "[encoded data removed]",
      "text/plain": [
       "<Figure size 432x288 with 1 Axes>"
      ]
     },
     "metadata": {
      "needs_background": "light"
     },
     "output_type": "display_data"
    }
   ],
   "source": [
    "sns.scatterplot(x = 'playtime_2weeks', y = 'helpful_vote', data = df.loc[(df['playtime_2weeks']<500) & (df['helpful_vote']<100)])"
   ]
  },
  {
   "cell_type": "markdown",
   "metadata": {},
   "source": [
    "Conclusion: Playtime in 2 weeks is too random as well. Playtime in general does not help with whether or not a comment is interacted "
   ]
  },
  {
   "cell_type": "code",
   "execution_count": 167,
   "metadata": {},
   "outputs": [
    {
     "data": {
      "text/plain": [
       "<matplotlib.axes._subplots.AxesSubplot at 0x1e2da0b49b0>"
      ]
     },
     "execution_count": 167,
     "metadata": {},
     "output_type": "execute_result"
    },
    {
     "data": {
      "image/png": "[encoded data removed]",
      "text/plain": [
       "<Figure size 432x288 with 1 Axes>"
      ]
     },
     "metadata": {
      "needs_background": "light"
     },
     "output_type": "display_data"
    }
   ],
   "source": [
    "sns.scatterplot(x = 'review_length', y = 'helpful_vote', data = df.loc[(df['review_length']<600) & (df['helpful_vote']<1000)])"
   ]
  },
  {
   "cell_type": "markdown",
   "metadata": {},
   "source": [
    "## Subset the dataframe to create feature space"
   ]
  },
  {
   "cell_type": "markdown",
   "metadata": {},
   "source": [
    "Failure log: playtime does not correlate with interactive potential. Cannot use item_name since it is judging result with a hindsight. "
   ]
  },
  {
   "cell_type": "code",
   "execution_count": 185,
   "metadata": {},
   "outputs": [],
   "source": [
    "interesting_features = df.copy()[['review', 'playtime_2weeks', 'playtime_forever', 'item_name', 'labels', 'user_id', 'review_length']]"
   ]
  },
  {
   "cell_type": "code",
   "execution_count": 186,
   "metadata": {},
   "outputs": [
    {
     "data": {
      "text/html": [
       "<div>\n",
       "<style scoped>\n",
       "    .dataframe tbody tr th:only-of-type {\n",
       "        vertical-align: middle;\n",
       "    }\n",
       "\n",
       "    .dataframe tbody tr th {\n",
       "        vertical-align: top;\n",
       "    }\n",
       "\n",
       "    .dataframe thead th {\n",
       "        text-align: right;\n",
       "    }\n",
       "</style>\n",
       "<table border=\"1\" class=\"dataframe\">\n",
       "  <thead>\n",
       "    <tr style=\"text-align: right;\">\n",
       "      <th></th>\n",
       "      <th>review</th>\n",
       "      <th>playtime_2weeks</th>\n",
       "      <th>playtime_forever</th>\n",
       "      <th>item_name</th>\n",
       "      <th>labels</th>\n",
       "      <th>user_id</th>\n",
       "      <th>review_length</th>\n",
       "    </tr>\n",
       "  </thead>\n",
       "  <tbody>\n",
       "    <tr>\n",
       "      <th>0</th>\n",
       "      <td>simple yet with great replayability in my opin...</td>\n",
       "      <td>0</td>\n",
       "      <td>10006</td>\n",
       "      <td>Killing Floor</td>\n",
       "      <td>False</td>\n",
       "      <td>76561197970982479</td>\n",
       "      <td>45</td>\n",
       "    </tr>\n",
       "    <tr>\n",
       "      <th>1</th>\n",
       "      <td>its unique and worth a playthrough</td>\n",
       "      <td>0</td>\n",
       "      <td>271</td>\n",
       "      <td>Zeno Clash</td>\n",
       "      <td>False</td>\n",
       "      <td>76561197970982479</td>\n",
       "      <td>6</td>\n",
       "    </tr>\n",
       "    <tr>\n",
       "      <th>2</th>\n",
       "      <td>great atmosphere the gunplay can be a bit chun...</td>\n",
       "      <td>0</td>\n",
       "      <td>834</td>\n",
       "      <td>Metro 2033</td>\n",
       "      <td>False</td>\n",
       "      <td>76561197970982479</td>\n",
       "      <td>39</td>\n",
       "    </tr>\n",
       "    <tr>\n",
       "      <th>3</th>\n",
       "      <td>i know what you think when you see this title ...</td>\n",
       "      <td>0</td>\n",
       "      <td>84</td>\n",
       "      <td>Barbie™ Dreamhouse Party™</td>\n",
       "      <td>True</td>\n",
       "      <td>js41637</td>\n",
       "      <td>110</td>\n",
       "    </tr>\n",
       "    <tr>\n",
       "      <th>4</th>\n",
       "      <td>for a simple its actually not all that simple ...</td>\n",
       "      <td>0</td>\n",
       "      <td>551</td>\n",
       "      <td>Euro Truck Simulator 2</td>\n",
       "      <td>True</td>\n",
       "      <td>js41637</td>\n",
       "      <td>116</td>\n",
       "    </tr>\n",
       "  </tbody>\n",
       "</table>\n",
       "</div>"
      ],
      "text/plain": [
       "                                              review  playtime_2weeks  \\\n",
       "0  simple yet with great replayability in my opin...                0   \n",
       "1                 its unique and worth a playthrough                0   \n",
       "2  great atmosphere the gunplay can be a bit chun...                0   \n",
       "3  i know what you think when you see this title ...                0   \n",
       "4  for a simple its actually not all that simple ...                0   \n",
       "\n",
       "   playtime_forever                  item_name  labels            user_id  \\\n",
       "0             10006              Killing Floor   False  76561197970982479   \n",
       "1               271                 Zeno Clash   False  76561197970982479   \n",
       "2               834                 Metro 2033   False  76561197970982479   \n",
       "3                84  Barbie™ Dreamhouse Party™    True            js41637   \n",
       "4               551     Euro Truck Simulator 2    True            js41637   \n",
       "\n",
       "   review_length  \n",
       "0             45  \n",
       "1              6  \n",
       "2             39  \n",
       "3            110  \n",
       "4            116  "
      ]
     },
     "execution_count": 186,
     "metadata": {},
     "output_type": "execute_result"
    }
   ],
   "source": [
    "interesting_features.head()"
   ]
  },
  {
   "cell_type": "code",
   "execution_count": 187,
   "metadata": {},
   "outputs": [],
   "source": [
    "import sklearn\n",
    "from sklearn.compose import ColumnTransformer\n",
    "from sklearn.feature_extraction.text import TfidfVectorizer\n",
    "from sklearn.preprocessing import OneHotEncoder"
   ]
  },
  {
   "cell_type": "code",
   "execution_count": 188,
   "metadata": {},
   "outputs": [],
   "source": [
    "from sklearn.model_selection import train_test_split"
   ]
  },
  {
   "cell_type": "code",
   "execution_count": 189,
   "metadata": {},
   "outputs": [],
   "source": [
    "# interesting_features['playtime_2weeks'] = interesting_features['playtime_2weeks'].astype(int)\n",
    "# interesting_features['playtime_forever'] = interesting_features['playtime_forever'].astype(int)"
   ]
  },
  {
   "cell_type": "code",
   "execution_count": 190,
   "metadata": {},
   "outputs": [],
   "source": [
    "transformers = [('parse_review', TfidfVectorizer(), 'review'),\n",
    "                ('parse_item_name', OneHotEncoder(handle_unknown='ignore'), ['user_id'])]\n",
    "ct = ColumnTransformer(transformers=transformers, remainder='passthrough')"
   ]
  },
  {
   "cell_type": "code",
   "execution_count": 202,
   "metadata": {},
   "outputs": [],
   "source": [
    "from sklearn.linear_model import LogisticRegressionCV\n",
    "from sklearn.svm import LinearSVC\n",
    "from sklearn.svm import SVC"
   ]
  },
  {
   "cell_type": "code",
   "execution_count": 192,
   "metadata": {
    "scrolled": true
   },
   "outputs": [],
   "source": [
    "X = interesting_features[['review', 'user_id', 'review_length']]\n",
    "y = interesting_features['labels']"
   ]
  },
  {
   "cell_type": "code",
   "execution_count": 207,
   "metadata": {},
   "outputs": [],
   "source": [
    "hold_X, test_X, hold_y, test_y = train_test_split(X, y, test_size = 0.2)"
   ]
  },
  {
   "cell_type": "code",
   "execution_count": 208,
   "metadata": {},
   "outputs": [],
   "source": [
    "train_X, val_X, train_y, val_y = train_test_split(hold_X, hold_y, test_size = 0.2)"
   ]
  },
  {
   "cell_type": "code",
   "execution_count": 209,
   "metadata": {},
   "outputs": [],
   "source": [
    "from sklearn.pipeline import Pipeline"
   ]
  },
  {
   "cell_type": "code",
   "execution_count": 210,
   "metadata": {},
   "outputs": [],
   "source": [
    "pl = Pipeline([('transform', ct), ('model', LogisticRegressionCV(Cs = 1))])"
   ]
  },
  {
   "cell_type": "code",
   "execution_count": 211,
   "metadata": {},
   "outputs": [
    {
     "name": "stderr",
     "output_type": "stream",
     "text": [
      "C:\\Users\\shuto\\Anaconda3\\lib\\site-packages\\sklearn\\model_selection\\_split.py:2053: FutureWarning: You should specify a value for 'cv' instead of relying on the default value. The default value will change from 3 to 5 in version 0.22.\n",
      "  warnings.warn(CV_WARNING, FutureWarning)\n"
     ]
    },
    {
     "data": {
      "text/plain": [
       "Pipeline(memory=None,\n",
       "     steps=[('transform', ColumnTransformer(n_jobs=None, remainder='passthrough', sparse_threshold=0.3,\n",
       "         transformer_weights=None,\n",
       "         transformers=[('parse_review', TfidfVectorizer(analyzer='word', binary=False, decode_error='strict',\n",
       "        dtype=<class 'numpy.float64'>, encoding='utf-8',...    random_state=None, refit=True, scoring=None, solver='lbfgs',\n",
       "           tol=0.0001, verbose=0))])"
      ]
     },
     "execution_count": 211,
     "metadata": {},
     "output_type": "execute_result"
    }
   ],
   "source": [
    "pl.fit(train_X, train_y)"
   ]
  },
  {
   "cell_type": "code",
   "execution_count": 213,
   "metadata": {},
   "outputs": [
    {
     "data": {
      "text/plain": [
       "0.5293053041904496"
      ]
     },
     "execution_count": 213,
     "metadata": {},
     "output_type": "execute_result"
    }
   ],
   "source": [
    "pl.score(val_X, val_y)"
   ]
  },
  {
   "cell_type": "code",
   "execution_count": 214,
   "metadata": {},
   "outputs": [
    {
     "data": {
      "text/plain": [
       "0.5271775451102696"
      ]
     },
     "execution_count": 214,
     "metadata": {},
     "output_type": "execute_result"
    }
   ],
   "source": [
    "pl.score(test_X, test_y)"
   ]
  },
  {
   "cell_type": "code",
   "execution_count": 262,
   "metadata": {},
   "outputs": [],
   "source": [
    "pl2 = Pipeline([('transform', ct), ('model', LinearSVC(C = 0.1))])"
   ]
  },
  {
   "cell_type": "code",
   "execution_count": 263,
   "metadata": {},
   "outputs": [
    {
     "name": "stderr",
     "output_type": "stream",
     "text": [
      "C:\\Users\\shuto\\Anaconda3\\lib\\site-packages\\sklearn\\svm\\base.py:931: ConvergenceWarning: Liblinear failed to converge, increase the number of iterations.\n",
      "  \"the number of iterations.\", ConvergenceWarning)\n"
     ]
    },
    {
     "data": {
      "text/plain": [
       "Pipeline(memory=None,\n",
       "     steps=[('transform', ColumnTransformer(n_jobs=None, remainder='passthrough', sparse_threshold=0.3,\n",
       "         transformer_weights=None,\n",
       "         transformers=[('parse_review', TfidfVectorizer(analyzer='word', binary=False, decode_error='strict',\n",
       "        dtype=<class 'numpy.float64'>, encoding='utf-8',...ax_iter=1000,\n",
       "     multi_class='ovr', penalty='l2', random_state=None, tol=0.0001,\n",
       "     verbose=0))])"
      ]
     },
     "execution_count": 263,
     "metadata": {},
     "output_type": "execute_result"
    }
   ],
   "source": [
    "pl2.fit(train_X, train_y)"
   ]
  },
  {
   "cell_type": "code",
   "execution_count": 264,
   "metadata": {},
   "outputs": [
    {
     "data": {
      "text/plain": [
       "0.8907723902676737"
      ]
     },
     "execution_count": 264,
     "metadata": {},
     "output_type": "execute_result"
    }
   ],
   "source": [
    "pl2.score(train_X, train_y)"
   ]
  },
  {
   "cell_type": "code",
   "execution_count": 265,
   "metadata": {},
   "outputs": [
    {
     "data": {
      "text/plain": [
       "0.6257830989837115"
      ]
     },
     "execution_count": 265,
     "metadata": {},
     "output_type": "execute_result"
    }
   ],
   "source": [
    "pl2.score(val_X, val_y)"
   ]
  },
  {
   "cell_type": "code",
   "execution_count": 266,
   "metadata": {},
   "outputs": [
    {
     "data": {
      "text/plain": [
       "0.6162842503898418"
      ]
     },
     "execution_count": 266,
     "metadata": {},
     "output_type": "execute_result"
    }
   ],
   "source": [
    "pl2.score(test_X, test_y)"
   ]
  },
  {
   "cell_type": "code",
   "execution_count": 221,
   "metadata": {},
   "outputs": [],
   "source": [
    "pl_svc = Pipeline([('transform', ct), ('model', SVC(degree=2))])"
   ]
  },
  {
   "cell_type": "code",
   "execution_count": 222,
   "metadata": {},
   "outputs": [
    {
     "name": "stderr",
     "output_type": "stream",
     "text": [
      "C:\\Users\\shuto\\Anaconda3\\lib\\site-packages\\sklearn\\svm\\base.py:196: FutureWarning: The default value of gamma will change from 'auto' to 'scale' in version 0.22 to account better for unscaled features. Set gamma explicitly to 'auto' or 'scale' to avoid this warning.\n",
      "  \"avoid this warning.\", FutureWarning)\n"
     ]
    },
    {
     "data": {
      "text/plain": [
       "Pipeline(memory=None,\n",
       "     steps=[('transform', ColumnTransformer(n_jobs=None, remainder='passthrough', sparse_threshold=0.3,\n",
       "         transformer_weights=None,\n",
       "         transformers=[('parse_review', TfidfVectorizer(analyzer='word', binary=False, decode_error='strict',\n",
       "        dtype=<class 'numpy.float64'>, encoding='utf-8',...f', max_iter=-1, probability=False, random_state=None,\n",
       "  shrinking=True, tol=0.001, verbose=False))])"
      ]
     },
     "execution_count": 222,
     "metadata": {},
     "output_type": "execute_result"
    }
   ],
   "source": [
    "pl_svc.fit(train_X, train_y)"
   ]
  },
  {
   "cell_type": "code",
   "execution_count": 223,
   "metadata": {},
   "outputs": [
    {
     "data": {
      "text/plain": [
       "0.5149253731343284"
      ]
     },
     "execution_count": 223,
     "metadata": {},
     "output_type": "execute_result"
    }
   ],
   "source": [
    "pl_svc.score(test_X, test_y)"
   ]
  },
  {
   "cell_type": "code",
   "execution_count": 267,
   "metadata": {},
   "outputs": [],
   "source": [
    "performance = [[pl.score(train_X, train_y), pl.score(val_X, val_y), pl.score(test_X, test_y)],\n",
    " [pl2.score(train_X, train_y), pl2.score(val_X, val_y), pl2.score(test_X, test_y)],\n",
    " [pl_svc.score(train_X, train_y), pl_svc.score(val_X, val_y), pl_svc.score(test_X, test_y)]]"
   ]
  },
  {
   "cell_type": "code",
   "execution_count": 268,
   "metadata": {},
   "outputs": [
    {
     "data": {
      "text/html": [
       "<div>\n",
       "<style scoped>\n",
       "    .dataframe tbody tr th:only-of-type {\n",
       "        vertical-align: middle;\n",
       "    }\n",
       "\n",
       "    .dataframe tbody tr th {\n",
       "        vertical-align: top;\n",
       "    }\n",
       "\n",
       "    .dataframe thead th {\n",
       "        text-align: right;\n",
       "    }\n",
       "</style>\n",
       "<table border=\"1\" class=\"dataframe\">\n",
       "  <thead>\n",
       "    <tr style=\"text-align: right;\">\n",
       "      <th></th>\n",
       "      <th>train</th>\n",
       "      <th>validation</th>\n",
       "      <th>test</th>\n",
       "    </tr>\n",
       "  </thead>\n",
       "  <tbody>\n",
       "    <tr>\n",
       "      <th>logistic_regression</th>\n",
       "      <td>0.526158</td>\n",
       "      <td>0.529305</td>\n",
       "      <td>0.527178</td>\n",
       "    </tr>\n",
       "    <tr>\n",
       "      <th>LinearSVC</th>\n",
       "      <td>0.890772</td>\n",
       "      <td>0.625783</td>\n",
       "      <td>0.616284</td>\n",
       "    </tr>\n",
       "    <tr>\n",
       "      <th>Deg2_SVC</th>\n",
       "      <td>0.519057</td>\n",
       "      <td>0.509954</td>\n",
       "      <td>0.514925</td>\n",
       "    </tr>\n",
       "  </tbody>\n",
       "</table>\n",
       "</div>"
      ],
      "text/plain": [
       "                        train  validation      test\n",
       "logistic_regression  0.526158    0.529305  0.527178\n",
       "LinearSVC            0.890772    0.625783  0.616284\n",
       "Deg2_SVC             0.519057    0.509954  0.514925"
      ]
     },
     "execution_count": 268,
     "metadata": {},
     "output_type": "execute_result"
    }
   ],
   "source": [
    "pd.DataFrame(performance, columns=['train', 'validation', 'test'], index=['logistic_regression', 'LinearSVC', 'Deg2_SVC'])"
   ]
  },
  {
   "cell_type": "code",
   "execution_count": null,
   "metadata": {},
   "outputs": [],
   "source": []
  }
 ],
 "metadata": {
  "kernelspec": {
   "display_name": "Python 3",
   "language": "python",
   "name": "python3"
  },
  "language_info": {
   "codemirror_mode": {
    "name": "ipython",
    "version": 3
   },
   "file_extension": ".py",
   "mimetype": "text/x-python",
   "name": "python",
   "nbconvert_exporter": "python",
   "pygments_lexer": "ipython3",
   "version": "3.7.2"
  }
 },
 "nbformat": 4,
 "nbformat_minor": 2
}
